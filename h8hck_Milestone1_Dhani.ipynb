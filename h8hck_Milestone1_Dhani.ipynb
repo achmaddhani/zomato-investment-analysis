{
 "cells": [
  {
   "cell_type": "markdown",
   "id": "7363a9ce-2d6e-4e05-b1f8-7c0608adfda5",
   "metadata": {},
   "source": [
    "```\n",
    "=================================================\n",
    "Milestone 1\n",
    "\n",
    "Nama  : Achmad Dhani\n",
    "Batch : HCK-009\n",
    "\n",
    "This notebook consist of importing data from keggle, cleaning the data and proceed to analyize based on SMART and fishbone that's created.\n",
    "The result then visualized with Tableu.\n",
    "=================================================\n"
   ]
  },
  {
   "cell_type": "code",
   "execution_count": 1,
   "id": "a1ee9d54-c364-439c-864b-02bcabb1fce2",
   "metadata": {},
   "outputs": [],
   "source": [
    "# it's you again pandas\n",
    "import pandas as pd"
   ]
  },
  {
   "cell_type": "code",
   "execution_count": 192,
   "id": "03bc1f5a-0933-4045-b8dc-b6314b92472e",
   "metadata": {},
   "outputs": [],
   "source": [
    "df = pd.read_csv(\"zomato.csv\") # importing the data"
   ]
  },
  {
   "cell_type": "code",
   "execution_count": 193,
   "id": "c8b8a682-9ffe-47b3-9d7b-a30807e584f4",
   "metadata": {
    "scrolled": true
   },
   "outputs": [
    {
     "data": {
      "text/html": [
       "<div>\n",
       "<style scoped>\n",
       "    .dataframe tbody tr th:only-of-type {\n",
       "        vertical-align: middle;\n",
       "    }\n",
       "\n",
       "    .dataframe tbody tr th {\n",
       "        vertical-align: top;\n",
       "    }\n",
       "\n",
       "    .dataframe thead th {\n",
       "        text-align: right;\n",
       "    }\n",
       "</style>\n",
       "<table border=\"1\" class=\"dataframe\">\n",
       "  <thead>\n",
       "    <tr style=\"text-align: right;\">\n",
       "      <th></th>\n",
       "      <th>url</th>\n",
       "      <th>address</th>\n",
       "      <th>name</th>\n",
       "      <th>online_order</th>\n",
       "      <th>book_table</th>\n",
       "      <th>rate</th>\n",
       "      <th>votes</th>\n",
       "      <th>phone</th>\n",
       "      <th>location</th>\n",
       "      <th>rest_type</th>\n",
       "      <th>dish_liked</th>\n",
       "      <th>cuisines</th>\n",
       "      <th>approx_cost(for two people)</th>\n",
       "      <th>reviews_list</th>\n",
       "      <th>menu_item</th>\n",
       "      <th>listed_in(type)</th>\n",
       "      <th>listed_in(city)</th>\n",
       "    </tr>\n",
       "  </thead>\n",
       "  <tbody>\n",
       "    <tr>\n",
       "      <th>51712</th>\n",
       "      <td>https://www.zomato.com/bangalore/best-brews-fo...</td>\n",
       "      <td>Four Points by Sheraton Bengaluru, 43/3, White...</td>\n",
       "      <td>Best Brews - Four Points by Sheraton Bengaluru...</td>\n",
       "      <td>No</td>\n",
       "      <td>No</td>\n",
       "      <td>3.6 /5</td>\n",
       "      <td>27</td>\n",
       "      <td>080 40301477</td>\n",
       "      <td>Whitefield</td>\n",
       "      <td>Bar</td>\n",
       "      <td>NaN</td>\n",
       "      <td>Continental</td>\n",
       "      <td>1,500</td>\n",
       "      <td>[('Rated 5.0', \"RATED\\n  Food and service are ...</td>\n",
       "      <td>[]</td>\n",
       "      <td>Pubs and bars</td>\n",
       "      <td>Whitefield</td>\n",
       "    </tr>\n",
       "    <tr>\n",
       "      <th>51713</th>\n",
       "      <td>https://www.zomato.com/bangalore/vinod-bar-and...</td>\n",
       "      <td>Number 10, Garudachar Palya, Mahadevapura, Whi...</td>\n",
       "      <td>Vinod Bar And Restaurant</td>\n",
       "      <td>No</td>\n",
       "      <td>No</td>\n",
       "      <td>NaN</td>\n",
       "      <td>0</td>\n",
       "      <td>+91 8197675843</td>\n",
       "      <td>Whitefield</td>\n",
       "      <td>Bar</td>\n",
       "      <td>NaN</td>\n",
       "      <td>Finger Food</td>\n",
       "      <td>600</td>\n",
       "      <td>[]</td>\n",
       "      <td>[]</td>\n",
       "      <td>Pubs and bars</td>\n",
       "      <td>Whitefield</td>\n",
       "    </tr>\n",
       "    <tr>\n",
       "      <th>51714</th>\n",
       "      <td>https://www.zomato.com/bangalore/plunge-sherat...</td>\n",
       "      <td>Sheraton Grand Bengaluru Whitefield Hotel &amp; Co...</td>\n",
       "      <td>Plunge - Sheraton Grand Bengaluru Whitefield H...</td>\n",
       "      <td>No</td>\n",
       "      <td>No</td>\n",
       "      <td>NaN</td>\n",
       "      <td>0</td>\n",
       "      <td>NaN</td>\n",
       "      <td>Whitefield</td>\n",
       "      <td>Bar</td>\n",
       "      <td>NaN</td>\n",
       "      <td>Finger Food</td>\n",
       "      <td>2,000</td>\n",
       "      <td>[]</td>\n",
       "      <td>[]</td>\n",
       "      <td>Pubs and bars</td>\n",
       "      <td>Whitefield</td>\n",
       "    </tr>\n",
       "    <tr>\n",
       "      <th>51715</th>\n",
       "      <td>https://www.zomato.com/bangalore/chime-sherato...</td>\n",
       "      <td>Sheraton Grand Bengaluru Whitefield Hotel &amp; Co...</td>\n",
       "      <td>Chime - Sheraton Grand Bengaluru Whitefield Ho...</td>\n",
       "      <td>No</td>\n",
       "      <td>Yes</td>\n",
       "      <td>4.3 /5</td>\n",
       "      <td>236</td>\n",
       "      <td>080 49652769</td>\n",
       "      <td>ITPL Main Road, Whitefield</td>\n",
       "      <td>Bar</td>\n",
       "      <td>Cocktails, Pizza, Buttermilk</td>\n",
       "      <td>Finger Food</td>\n",
       "      <td>2,500</td>\n",
       "      <td>[('Rated 4.0', 'RATED\\n  Nice and friendly pla...</td>\n",
       "      <td>[]</td>\n",
       "      <td>Pubs and bars</td>\n",
       "      <td>Whitefield</td>\n",
       "    </tr>\n",
       "    <tr>\n",
       "      <th>51716</th>\n",
       "      <td>https://www.zomato.com/bangalore/the-nest-the-...</td>\n",
       "      <td>ITPL Main Road, KIADB Export Promotion Industr...</td>\n",
       "      <td>The Nest - The Den Bengaluru</td>\n",
       "      <td>No</td>\n",
       "      <td>No</td>\n",
       "      <td>3.4 /5</td>\n",
       "      <td>13</td>\n",
       "      <td>+91 8071117272</td>\n",
       "      <td>ITPL Main Road, Whitefield</td>\n",
       "      <td>Bar, Casual Dining</td>\n",
       "      <td>NaN</td>\n",
       "      <td>Finger Food, North Indian, Continental</td>\n",
       "      <td>1,500</td>\n",
       "      <td>[('Rated 5.0', 'RATED\\n  Great ambience , look...</td>\n",
       "      <td>[]</td>\n",
       "      <td>Pubs and bars</td>\n",
       "      <td>Whitefield</td>\n",
       "    </tr>\n",
       "  </tbody>\n",
       "</table>\n",
       "</div>"
      ],
      "text/plain": [
       "                                                     url  \\\n",
       "51712  https://www.zomato.com/bangalore/best-brews-fo...   \n",
       "51713  https://www.zomato.com/bangalore/vinod-bar-and...   \n",
       "51714  https://www.zomato.com/bangalore/plunge-sherat...   \n",
       "51715  https://www.zomato.com/bangalore/chime-sherato...   \n",
       "51716  https://www.zomato.com/bangalore/the-nest-the-...   \n",
       "\n",
       "                                                 address  \\\n",
       "51712  Four Points by Sheraton Bengaluru, 43/3, White...   \n",
       "51713  Number 10, Garudachar Palya, Mahadevapura, Whi...   \n",
       "51714  Sheraton Grand Bengaluru Whitefield Hotel & Co...   \n",
       "51715  Sheraton Grand Bengaluru Whitefield Hotel & Co...   \n",
       "51716  ITPL Main Road, KIADB Export Promotion Industr...   \n",
       "\n",
       "                                                    name online_order  \\\n",
       "51712  Best Brews - Four Points by Sheraton Bengaluru...           No   \n",
       "51713                           Vinod Bar And Restaurant           No   \n",
       "51714  Plunge - Sheraton Grand Bengaluru Whitefield H...           No   \n",
       "51715  Chime - Sheraton Grand Bengaluru Whitefield Ho...           No   \n",
       "51716                       The Nest - The Den Bengaluru           No   \n",
       "\n",
       "      book_table    rate  votes           phone                    location  \\\n",
       "51712         No  3.6 /5     27    080 40301477                  Whitefield   \n",
       "51713         No     NaN      0  +91 8197675843                  Whitefield   \n",
       "51714         No     NaN      0             NaN                  Whitefield   \n",
       "51715        Yes  4.3 /5    236    080 49652769  ITPL Main Road, Whitefield   \n",
       "51716         No  3.4 /5     13  +91 8071117272  ITPL Main Road, Whitefield   \n",
       "\n",
       "                rest_type                    dish_liked  \\\n",
       "51712                 Bar                           NaN   \n",
       "51713                 Bar                           NaN   \n",
       "51714                 Bar                           NaN   \n",
       "51715                 Bar  Cocktails, Pizza, Buttermilk   \n",
       "51716  Bar, Casual Dining                           NaN   \n",
       "\n",
       "                                     cuisines approx_cost(for two people)  \\\n",
       "51712                             Continental                       1,500   \n",
       "51713                             Finger Food                         600   \n",
       "51714                             Finger Food                       2,000   \n",
       "51715                             Finger Food                       2,500   \n",
       "51716  Finger Food, North Indian, Continental                       1,500   \n",
       "\n",
       "                                            reviews_list menu_item  \\\n",
       "51712  [('Rated 5.0', \"RATED\\n  Food and service are ...        []   \n",
       "51713                                                 []        []   \n",
       "51714                                                 []        []   \n",
       "51715  [('Rated 4.0', 'RATED\\n  Nice and friendly pla...        []   \n",
       "51716  [('Rated 5.0', 'RATED\\n  Great ambience , look...        []   \n",
       "\n",
       "      listed_in(type) listed_in(city)  \n",
       "51712   Pubs and bars      Whitefield  \n",
       "51713   Pubs and bars      Whitefield  \n",
       "51714   Pubs and bars      Whitefield  \n",
       "51715   Pubs and bars      Whitefield  \n",
       "51716   Pubs and bars      Whitefield  "
      ]
     },
     "execution_count": 193,
     "metadata": {},
     "output_type": "execute_result"
    }
   ],
   "source": [
    "df.tail() # displaying the bottom data"
   ]
  },
  {
   "cell_type": "code",
   "execution_count": 194,
   "id": "65657c73-a756-4177-8582-c7582e96466e",
   "metadata": {},
   "outputs": [
    {
     "data": {
      "text/plain": [
       "Index(['url', 'address', 'name', 'online_order', 'book_table', 'rate', 'votes',\n",
       "       'phone', 'location', 'rest_type', 'dish_liked', 'cuisines',\n",
       "       'approx_cost(for two people)', 'reviews_list', 'menu_item',\n",
       "       'listed_in(type)', 'listed_in(city)'],\n",
       "      dtype='object')"
      ]
     },
     "execution_count": 194,
     "metadata": {},
     "output_type": "execute_result"
    }
   ],
   "source": [
    "df.columns # summary of the data"
   ]
  },
  {
   "cell_type": "code",
   "execution_count": 195,
   "id": "1d7f264b-675c-4061-86b6-12f0a9155fe2",
   "metadata": {},
   "outputs": [
    {
     "name": "stdout",
     "output_type": "stream",
     "text": [
      "<class 'pandas.core.frame.DataFrame'>\n",
      "RangeIndex: 51717 entries, 0 to 51716\n",
      "Data columns (total 17 columns):\n",
      " #   Column                       Non-Null Count  Dtype \n",
      "---  ------                       --------------  ----- \n",
      " 0   url                          51717 non-null  object\n",
      " 1   address                      51717 non-null  object\n",
      " 2   name                         51717 non-null  object\n",
      " 3   online_order                 51717 non-null  object\n",
      " 4   book_table                   51717 non-null  object\n",
      " 5   rate                         43942 non-null  object\n",
      " 6   votes                        51717 non-null  int64 \n",
      " 7   phone                        50509 non-null  object\n",
      " 8   location                     51696 non-null  object\n",
      " 9   rest_type                    51490 non-null  object\n",
      " 10  dish_liked                   23639 non-null  object\n",
      " 11  cuisines                     51672 non-null  object\n",
      " 12  approx_cost(for two people)  51371 non-null  object\n",
      " 13  reviews_list                 51717 non-null  object\n",
      " 14  menu_item                    51717 non-null  object\n",
      " 15  listed_in(type)              51717 non-null  object\n",
      " 16  listed_in(city)              51717 non-null  object\n",
      "dtypes: int64(1), object(16)\n",
      "memory usage: 6.7+ MB\n"
     ]
    }
   ],
   "source": [
    "df.info() # summary of the data"
   ]
  },
  {
   "cell_type": "code",
   "execution_count": 196,
   "id": "71c2ba15-677b-4826-8e52-7626d470cf1d",
   "metadata": {
    "scrolled": true
   },
   "outputs": [
    {
     "data": {
      "text/html": [
       "<div>\n",
       "<style scoped>\n",
       "    .dataframe tbody tr th:only-of-type {\n",
       "        vertical-align: middle;\n",
       "    }\n",
       "\n",
       "    .dataframe tbody tr th {\n",
       "        vertical-align: top;\n",
       "    }\n",
       "\n",
       "    .dataframe thead th {\n",
       "        text-align: right;\n",
       "    }\n",
       "</style>\n",
       "<table border=\"1\" class=\"dataframe\">\n",
       "  <thead>\n",
       "    <tr style=\"text-align: right;\">\n",
       "      <th></th>\n",
       "      <th>url</th>\n",
       "      <th>address</th>\n",
       "      <th>name</th>\n",
       "      <th>online_order</th>\n",
       "      <th>book_table</th>\n",
       "      <th>rate</th>\n",
       "      <th>phone</th>\n",
       "      <th>location</th>\n",
       "      <th>rest_type</th>\n",
       "      <th>dish_liked</th>\n",
       "      <th>cuisines</th>\n",
       "      <th>approx_cost(for two people)</th>\n",
       "      <th>reviews_list</th>\n",
       "      <th>menu_item</th>\n",
       "      <th>listed_in(type)</th>\n",
       "      <th>listed_in(city)</th>\n",
       "    </tr>\n",
       "  </thead>\n",
       "  <tbody>\n",
       "    <tr>\n",
       "      <th>count</th>\n",
       "      <td>51717</td>\n",
       "      <td>51717</td>\n",
       "      <td>51717</td>\n",
       "      <td>51717</td>\n",
       "      <td>51717</td>\n",
       "      <td>43942</td>\n",
       "      <td>50509</td>\n",
       "      <td>51696</td>\n",
       "      <td>51490</td>\n",
       "      <td>23639</td>\n",
       "      <td>51672</td>\n",
       "      <td>51371</td>\n",
       "      <td>51717</td>\n",
       "      <td>51717</td>\n",
       "      <td>51717</td>\n",
       "      <td>51717</td>\n",
       "    </tr>\n",
       "    <tr>\n",
       "      <th>unique</th>\n",
       "      <td>51717</td>\n",
       "      <td>11495</td>\n",
       "      <td>8792</td>\n",
       "      <td>2</td>\n",
       "      <td>2</td>\n",
       "      <td>64</td>\n",
       "      <td>14926</td>\n",
       "      <td>93</td>\n",
       "      <td>93</td>\n",
       "      <td>5271</td>\n",
       "      <td>2723</td>\n",
       "      <td>70</td>\n",
       "      <td>22513</td>\n",
       "      <td>9098</td>\n",
       "      <td>7</td>\n",
       "      <td>30</td>\n",
       "    </tr>\n",
       "    <tr>\n",
       "      <th>top</th>\n",
       "      <td>https://www.zomato.com/bangalore/jalsa-banasha...</td>\n",
       "      <td>Delivery Only</td>\n",
       "      <td>Cafe Coffee Day</td>\n",
       "      <td>Yes</td>\n",
       "      <td>No</td>\n",
       "      <td>NEW</td>\n",
       "      <td>080 43334321</td>\n",
       "      <td>BTM</td>\n",
       "      <td>Quick Bites</td>\n",
       "      <td>Biryani</td>\n",
       "      <td>North Indian</td>\n",
       "      <td>300</td>\n",
       "      <td>[]</td>\n",
       "      <td>[]</td>\n",
       "      <td>Delivery</td>\n",
       "      <td>BTM</td>\n",
       "    </tr>\n",
       "    <tr>\n",
       "      <th>freq</th>\n",
       "      <td>1</td>\n",
       "      <td>128</td>\n",
       "      <td>96</td>\n",
       "      <td>30444</td>\n",
       "      <td>45268</td>\n",
       "      <td>2208</td>\n",
       "      <td>216</td>\n",
       "      <td>5124</td>\n",
       "      <td>19132</td>\n",
       "      <td>182</td>\n",
       "      <td>2913</td>\n",
       "      <td>7576</td>\n",
       "      <td>7595</td>\n",
       "      <td>39617</td>\n",
       "      <td>25942</td>\n",
       "      <td>3279</td>\n",
       "    </tr>\n",
       "  </tbody>\n",
       "</table>\n",
       "</div>"
      ],
      "text/plain": [
       "                                                      url        address  \\\n",
       "count                                               51717          51717   \n",
       "unique                                              51717          11495   \n",
       "top     https://www.zomato.com/bangalore/jalsa-banasha...  Delivery Only   \n",
       "freq                                                    1            128   \n",
       "\n",
       "                   name online_order book_table   rate         phone location  \\\n",
       "count             51717        51717      51717  43942         50509    51696   \n",
       "unique             8792            2          2     64         14926       93   \n",
       "top     Cafe Coffee Day          Yes         No    NEW  080 43334321      BTM   \n",
       "freq                 96        30444      45268   2208           216     5124   \n",
       "\n",
       "          rest_type dish_liked      cuisines approx_cost(for two people)  \\\n",
       "count         51490      23639         51672                       51371   \n",
       "unique           93       5271          2723                          70   \n",
       "top     Quick Bites    Biryani  North Indian                         300   \n",
       "freq          19132        182          2913                        7576   \n",
       "\n",
       "       reviews_list menu_item listed_in(type) listed_in(city)  \n",
       "count         51717     51717           51717           51717  \n",
       "unique        22513      9098               7              30  \n",
       "top              []        []        Delivery             BTM  \n",
       "freq           7595     39617           25942            3279  "
      ]
     },
     "execution_count": 196,
     "metadata": {},
     "output_type": "execute_result"
    }
   ],
   "source": [
    "df.select_dtypes('object').describe() # summary of the data that is object type"
   ]
  },
  {
   "cell_type": "code",
   "execution_count": 197,
   "id": "8d27ff43-4ed8-47ea-8dcb-e6087954c2a5",
   "metadata": {},
   "outputs": [
    {
     "data": {
      "text/plain": [
       "listed_in(type)\n",
       "Delivery              25942\n",
       "Dine-out              17779\n",
       "Desserts               3593\n",
       "Cafes                  1723\n",
       "Drinks & nightlife     1101\n",
       "Buffet                  882\n",
       "Pubs and bars           697\n",
       "Name: count, dtype: int64"
      ]
     },
     "execution_count": 197,
     "metadata": {},
     "output_type": "execute_result"
    }
   ],
   "source": [
    "df['listed_in(type)'].value_counts() # looking at the unique and it's count"
   ]
  },
  {
   "cell_type": "code",
   "execution_count": 198,
   "id": "79867f0f-d4c3-4ca8-8731-636d86919bb4",
   "metadata": {},
   "outputs": [
    {
     "data": {
      "text/plain": [
       "listed_in(city)\n",
       "BTM                      3279\n",
       "Koramangala 7th Block    2938\n",
       "Koramangala 5th Block    2836\n",
       "Koramangala 4th Block    2779\n",
       "Koramangala 6th Block    2623\n",
       "Jayanagar                2371\n",
       "JP Nagar                 2096\n",
       "Indiranagar              1860\n",
       "Church Street            1827\n",
       "MG Road                  1811\n",
       "Brigade Road             1769\n",
       "Lavelle Road             1744\n",
       "HSR                      1741\n",
       "Marathahalli             1659\n",
       "Residency Road           1620\n",
       "Whitefield               1620\n",
       "Bannerghatta Road        1617\n",
       "Brookefield              1518\n",
       "Old Airport Road         1425\n",
       "Kammanahalli             1329\n",
       "Kalyan Nagar             1309\n",
       "Basavanagudi             1266\n",
       "Sarjapur Road            1261\n",
       "Electronic City          1229\n",
       "Bellandur                1227\n",
       "Frazer Town              1185\n",
       "Malleshwaram             1096\n",
       "Rajajinagar              1079\n",
       "Banashankari              863\n",
       "New BEL Road              740\n",
       "Name: count, dtype: int64"
      ]
     },
     "execution_count": 198,
     "metadata": {},
     "output_type": "execute_result"
    }
   ],
   "source": [
    "df['listed_in(city)'].value_counts() # looking at the unique and it's count"
   ]
  },
  {
   "cell_type": "markdown",
   "id": "62274ced-1a4a-4ddf-8458-7653eb7754d5",
   "metadata": {},
   "source": [
    "---"
   ]
  },
  {
   "cell_type": "markdown",
   "id": "dc1368fd-6218-40fb-9cd5-7d09a041b2d0",
   "metadata": {},
   "source": [
    "# SMART Framework"
   ]
  },
  {
   "cell_type": "markdown",
   "id": "3f1912a0-e5fb-42bb-8081-36e230428bbe",
   "metadata": {},
   "source": [
    "```\n",
    "Specific:\n",
    "#Partner with diverse and well-rated restaurants across different cities to maximize my potential returns on investment.\n",
    "\n",
    "Measurable:\n",
    "#Secure partnerships with at least one restaurant from each type.\n",
    "#Collaborate with restaurants from variety of locations.\n",
    "#Track the correlation between restaurants with high votes and their availability features to gauge customer preference trends.\n",
    "#Track the ROI from each restaurant partnership.\n",
    "\n",
    "Achievable:\n",
    "#Utilize Zomato's extensive database to collect data on restaurant types, locations, ratings, availability for booking and online orders, and costs.\n",
    "#Analyze the dataset to derive insights into consumer trends and preferences.\n",
    "\n",
    "Relevant:\n",
    "#Prioritize restaurants with higher ratings to minimize investment risk.\n",
    "#Seek partnerships with mid-range priced restaurants so it can cater to a broad spectrum of customers, balancing quality and affordability.\n",
    "#Partner with restaurants that offer strong availability features, such as online ordering and table reservations, to cater to a diverse range of customer preferences.\n",
    "#Partner with restaurants whose pricing aligns with the trends in each location to appeal to the appropriate target customers\n",
    "#Partner with restaurants that has established and had customers\n",
    "\n",
    "Time-Bound:\n",
    "#Complete data analysis and gathering by the end of next week.\n",
    "#Initiate and finalize discussions with potential restaurant managers/owners within the next month."
   ]
  },
  {
   "cell_type": "markdown",
   "id": "0c70db9b-0f63-4eb9-925c-c339bde86eda",
   "metadata": {},
   "source": [
    "---"
   ]
  },
  {
   "cell_type": "markdown",
   "id": "e5981bfa-0c1a-4b50-85cb-e6a8aefc21b2",
   "metadata": {},
   "source": [
    "# Fish Bone Diagram"
   ]
  },
  {
   "cell_type": "markdown",
   "id": "aad28561-d46b-40cd-80d2-10934a294e13",
   "metadata": {},
   "source": [
    "```\n",
    "Head (Problem Statement): Identify restaurants with high ratings that align with the trending types and price ranges of their respective locations for maximum potential investment.\n",
    "\n",
    "Bones(Potential Variables): These are the factors that can contribute which restaurant to partner\n",
    "\n",
    "## Rating\n",
    "$ Rating represents the customers overall fullfilment regarding the restaurant's service.\n",
    "$ The higher the rating the more satisfied customers are which results in better customer's confidence\n",
    "$ Rating is validated by the amount of votes since the rating displayed is an average from total votes\n",
    "\n",
    "## Votes\n",
    "$ Votes represents appx amount of customers that has visited and paid for the restaurant service.\n",
    "$ The amount of votes validates the rating of the restaurant\n",
    "$ Higher votes can also influence new customers to come from old customer's self promotion\n",
    "$ Explore the correlation between votes and other restaurant features to understand influencing factors (type and availbility).\n",
    "\n",
    "## Location\n",
    "$ Location represents where the restaurant is established\n",
    "$ Investing restaurants in a variety of locations will stabilize and increase the broad of portofolio. (like index funds)\n",
    "$ Each Location has their own culture and market tied to determine their restaurant trend\n",
    "\n",
    "## Restaurant Type\n",
    "$ Restaurants have different types like bar, buffet, etc\n",
    "$ Each type has it's own uniqueness that caters to each customer (vote)\n",
    "$ Each location has it's own restaurant type trend\n",
    "$ Investing a variety of types will broaden the portofolio and cover the whole market.\n",
    "\n",
    "# Cost\n",
    "$ Cost indicates the amount needed to spend for the restaurant's service\n",
    "$ Each customer(vote) has different budget to spend for the service\n",
    "$ Price trend of restaurants in each location is important for restaurants to appeal the appropriate customers\n",
    "$ High rated restaurants could have or set the cost trend\n",
    "\n",
    "# Availability\n",
    "$ Availability indicates a restaurant's adaptability and modern features\n",
    "$ Features like online ordering and table reservations can enhance customer convenience and accessibility\n",
    "$ Analyze the relationship between a restaurant's availability features and its votes to gauge specific influences on customer preferences."
   ]
  },
  {
   "cell_type": "markdown",
   "id": "1f57e30c-9aa3-4afd-86e0-de9e4dfede00",
   "metadata": {},
   "source": [
    "---"
   ]
  },
  {
   "cell_type": "markdown",
   "id": "0f721846-1c08-4a42-9cb4-2cd2d1bf5833",
   "metadata": {},
   "source": [
    "# Data Cleaning\n"
   ]
  },
  {
   "cell_type": "code",
   "execution_count": 1,
   "id": "7f153bed-1b4f-451a-b802-16857b6eff48",
   "metadata": {},
   "outputs": [],
   "source": [
    "# pandas FTW\n",
    "import pandas as pd"
   ]
  },
  {
   "cell_type": "code",
   "execution_count": 2,
   "id": "06bfb3f7-ece7-46c0-971c-e40b79a52969",
   "metadata": {},
   "outputs": [],
   "source": [
    "df = pd.read_csv(\"zomato.csv\") #reading the csv"
   ]
  },
  {
   "cell_type": "code",
   "execution_count": 3,
   "id": "6f45fc22-9cef-466b-9a74-56b28d7316df",
   "metadata": {
    "scrolled": true
   },
   "outputs": [
    {
     "name": "stdout",
     "output_type": "stream",
     "text": [
      "<class 'pandas.core.frame.DataFrame'>\n",
      "RangeIndex: 51717 entries, 0 to 51716\n",
      "Data columns (total 17 columns):\n",
      " #   Column                       Non-Null Count  Dtype \n",
      "---  ------                       --------------  ----- \n",
      " 0   url                          51717 non-null  object\n",
      " 1   address                      51717 non-null  object\n",
      " 2   name                         51717 non-null  object\n",
      " 3   online_order                 51717 non-null  object\n",
      " 4   book_table                   51717 non-null  object\n",
      " 5   rate                         43942 non-null  object\n",
      " 6   votes                        51717 non-null  int64 \n",
      " 7   phone                        50509 non-null  object\n",
      " 8   location                     51696 non-null  object\n",
      " 9   rest_type                    51490 non-null  object\n",
      " 10  dish_liked                   23639 non-null  object\n",
      " 11  cuisines                     51672 non-null  object\n",
      " 12  approx_cost(for two people)  51371 non-null  object\n",
      " 13  reviews_list                 51717 non-null  object\n",
      " 14  menu_item                    51717 non-null  object\n",
      " 15  listed_in(type)              51717 non-null  object\n",
      " 16  listed_in(city)              51717 non-null  object\n",
      "dtypes: int64(1), object(16)\n",
      "memory usage: 6.7+ MB\n"
     ]
    }
   ],
   "source": [
    "df.info() # it show's the summary of the data and if there is NULL values"
   ]
  },
  {
   "cell_type": "code",
   "execution_count": 4,
   "id": "47714efa-3fe7-43e4-9203-d46bac904a25",
   "metadata": {},
   "outputs": [],
   "source": [
    "df1 = df.drop_duplicates() # dropping duplicates if there is any"
   ]
  },
  {
   "cell_type": "code",
   "execution_count": 5,
   "id": "6c298d91-764d-497b-b656-5cf71f2518e6",
   "metadata": {
    "scrolled": true
   },
   "outputs": [
    {
     "name": "stdout",
     "output_type": "stream",
     "text": [
      "<class 'pandas.core.frame.DataFrame'>\n",
      "RangeIndex: 51717 entries, 0 to 51716\n",
      "Data columns (total 17 columns):\n",
      " #   Column                       Non-Null Count  Dtype \n",
      "---  ------                       --------------  ----- \n",
      " 0   url                          51717 non-null  object\n",
      " 1   address                      51717 non-null  object\n",
      " 2   name                         51717 non-null  object\n",
      " 3   online_order                 51717 non-null  object\n",
      " 4   book_table                   51717 non-null  object\n",
      " 5   rate                         43942 non-null  object\n",
      " 6   votes                        51717 non-null  int64 \n",
      " 7   phone                        50509 non-null  object\n",
      " 8   location                     51696 non-null  object\n",
      " 9   rest_type                    51490 non-null  object\n",
      " 10  dish_liked                   23639 non-null  object\n",
      " 11  cuisines                     51672 non-null  object\n",
      " 12  approx_cost(for two people)  51371 non-null  object\n",
      " 13  reviews_list                 51717 non-null  object\n",
      " 14  menu_item                    51717 non-null  object\n",
      " 15  listed_in(type)              51717 non-null  object\n",
      " 16  listed_in(city)              51717 non-null  object\n",
      "dtypes: int64(1), object(16)\n",
      "memory usage: 6.7+ MB\n"
     ]
    }
   ],
   "source": [
    "df1.info() # no duplicates :D"
   ]
  },
  {
   "cell_type": "code",
   "execution_count": 6,
   "id": "892ee7b1-7ef5-408e-bbcb-259326f4929b",
   "metadata": {},
   "outputs": [],
   "source": [
    "columns_to_drop = ['address', 'phone', 'dish_liked', 'cuisines', 'reviews_list', 'menu_item']\n",
    "df1.drop(columns=columns_to_drop, inplace = True) # dropping the columns that is not relevant, bye bye"
   ]
  },
  {
   "cell_type": "code",
   "execution_count": 7,
   "id": "a0cf166b-891e-49e6-9c79-f0789c4a0226",
   "metadata": {},
   "outputs": [
    {
     "name": "stdout",
     "output_type": "stream",
     "text": [
      "<class 'pandas.core.frame.DataFrame'>\n",
      "RangeIndex: 51717 entries, 0 to 51716\n",
      "Data columns (total 11 columns):\n",
      " #   Column                       Non-Null Count  Dtype \n",
      "---  ------                       --------------  ----- \n",
      " 0   url                          51717 non-null  object\n",
      " 1   name                         51717 non-null  object\n",
      " 2   online_order                 51717 non-null  object\n",
      " 3   book_table                   51717 non-null  object\n",
      " 4   rate                         43942 non-null  object\n",
      " 5   votes                        51717 non-null  int64 \n",
      " 6   location                     51696 non-null  object\n",
      " 7   rest_type                    51490 non-null  object\n",
      " 8   approx_cost(for two people)  51371 non-null  object\n",
      " 9   listed_in(type)              51717 non-null  object\n",
      " 10  listed_in(city)              51717 non-null  object\n",
      "dtypes: int64(1), object(10)\n",
      "memory usage: 4.3+ MB\n"
     ]
    }
   ],
   "source": [
    "df1.info() # the result of dropping the columns, was 16 become 10"
   ]
  },
  {
   "cell_type": "code",
   "execution_count": 8,
   "id": "3b2b83f7-fc83-448f-b721-6868bffb278f",
   "metadata": {},
   "outputs": [],
   "source": [
    "df2 = df1.copy() #checkpoint!"
   ]
  },
  {
   "cell_type": "code",
   "execution_count": 9,
   "id": "3424845d-ba81-4f06-bea9-70fd46202b89",
   "metadata": {},
   "outputs": [
    {
     "data": {
      "text/html": [
       "<div>\n",
       "<style scoped>\n",
       "    .dataframe tbody tr th:only-of-type {\n",
       "        vertical-align: middle;\n",
       "    }\n",
       "\n",
       "    .dataframe tbody tr th {\n",
       "        vertical-align: top;\n",
       "    }\n",
       "\n",
       "    .dataframe thead th {\n",
       "        text-align: right;\n",
       "    }\n",
       "</style>\n",
       "<table border=\"1\" class=\"dataframe\">\n",
       "  <thead>\n",
       "    <tr style=\"text-align: right;\">\n",
       "      <th></th>\n",
       "      <th>url</th>\n",
       "      <th>name</th>\n",
       "      <th>online_order</th>\n",
       "      <th>book_table</th>\n",
       "      <th>rate</th>\n",
       "      <th>votes</th>\n",
       "      <th>location</th>\n",
       "      <th>rest_type</th>\n",
       "      <th>approx_cost(for two people)</th>\n",
       "      <th>listed_in(type)</th>\n",
       "      <th>listed_in(city)</th>\n",
       "    </tr>\n",
       "  </thead>\n",
       "  <tbody>\n",
       "    <tr>\n",
       "      <th>999</th>\n",
       "      <td>https://www.zomato.com/bangalore/mughlai-kitch...</td>\n",
       "      <td>Mughlai Kitchen</td>\n",
       "      <td>Yes</td>\n",
       "      <td>No</td>\n",
       "      <td>3.5/5</td>\n",
       "      <td>269</td>\n",
       "      <td>BTM</td>\n",
       "      <td>NaN</td>\n",
       "      <td>600</td>\n",
       "      <td>Delivery</td>\n",
       "      <td>Bannerghatta Road</td>\n",
       "    </tr>\n",
       "    <tr>\n",
       "      <th>1300</th>\n",
       "      <td>https://www.zomato.com/bangalore/eat-joy-resta...</td>\n",
       "      <td>Eat &amp; Joy Restaurant</td>\n",
       "      <td>Yes</td>\n",
       "      <td>No</td>\n",
       "      <td>3.0/5</td>\n",
       "      <td>7</td>\n",
       "      <td>JP Nagar</td>\n",
       "      <td>NaN</td>\n",
       "      <td>300</td>\n",
       "      <td>Delivery</td>\n",
       "      <td>Bannerghatta Road</td>\n",
       "    </tr>\n",
       "    <tr>\n",
       "      <th>1376</th>\n",
       "      <td>https://www.zomato.com/bangalore/kababish-rest...</td>\n",
       "      <td>Kababish Restaurant</td>\n",
       "      <td>Yes</td>\n",
       "      <td>No</td>\n",
       "      <td>3.6/5</td>\n",
       "      <td>15</td>\n",
       "      <td>BTM</td>\n",
       "      <td>NaN</td>\n",
       "      <td>700</td>\n",
       "      <td>Delivery</td>\n",
       "      <td>Bannerghatta Road</td>\n",
       "    </tr>\n",
       "    <tr>\n",
       "      <th>1565</th>\n",
       "      <td>https://www.zomato.com/bangalore/goli-vada-pav...</td>\n",
       "      <td>Goli Vada Pav No 1</td>\n",
       "      <td>No</td>\n",
       "      <td>No</td>\n",
       "      <td>NaN</td>\n",
       "      <td>0</td>\n",
       "      <td>Bannerghatta Road</td>\n",
       "      <td>NaN</td>\n",
       "      <td>150</td>\n",
       "      <td>Delivery</td>\n",
       "      <td>Bannerghatta Road</td>\n",
       "    </tr>\n",
       "    <tr>\n",
       "      <th>1637</th>\n",
       "      <td>https://www.zomato.com/bangalore/ammis-biryani...</td>\n",
       "      <td>Ammi's Biryani</td>\n",
       "      <td>No</td>\n",
       "      <td>No</td>\n",
       "      <td>2.4/5</td>\n",
       "      <td>392</td>\n",
       "      <td>Bannerghatta Road</td>\n",
       "      <td>NaN</td>\n",
       "      <td>500</td>\n",
       "      <td>Delivery</td>\n",
       "      <td>Bannerghatta Road</td>\n",
       "    </tr>\n",
       "  </tbody>\n",
       "</table>\n",
       "</div>"
      ],
      "text/plain": [
       "                                                    url                  name  \\\n",
       "999   https://www.zomato.com/bangalore/mughlai-kitch...       Mughlai Kitchen   \n",
       "1300  https://www.zomato.com/bangalore/eat-joy-resta...  Eat & Joy Restaurant   \n",
       "1376  https://www.zomato.com/bangalore/kababish-rest...   Kababish Restaurant   \n",
       "1565  https://www.zomato.com/bangalore/goli-vada-pav...    Goli Vada Pav No 1   \n",
       "1637  https://www.zomato.com/bangalore/ammis-biryani...        Ammi's Biryani   \n",
       "\n",
       "     online_order book_table   rate  votes           location rest_type  \\\n",
       "999           Yes         No  3.5/5    269                BTM       NaN   \n",
       "1300          Yes         No  3.0/5      7           JP Nagar       NaN   \n",
       "1376          Yes         No  3.6/5     15                BTM       NaN   \n",
       "1565           No         No    NaN      0  Bannerghatta Road       NaN   \n",
       "1637           No         No  2.4/5    392  Bannerghatta Road       NaN   \n",
       "\n",
       "     approx_cost(for two people) listed_in(type)    listed_in(city)  \n",
       "999                          600        Delivery  Bannerghatta Road  \n",
       "1300                         300        Delivery  Bannerghatta Road  \n",
       "1376                         700        Delivery  Bannerghatta Road  \n",
       "1565                         150        Delivery  Bannerghatta Road  \n",
       "1637                         500        Delivery  Bannerghatta Road  "
      ]
     },
     "execution_count": 9,
     "metadata": {},
     "output_type": "execute_result"
    }
   ],
   "source": [
    "df2.loc[df2['rest_type'].isnull()].head() # Looking to see and understand what the NULL means since there are duplicate columns"
   ]
  },
  {
   "cell_type": "code",
   "execution_count": 10,
   "id": "00e3e254-4b8e-4834-bba6-3bcbc819189f",
   "metadata": {},
   "outputs": [
    {
     "data": {
      "text/html": [
       "<div>\n",
       "<style scoped>\n",
       "    .dataframe tbody tr th:only-of-type {\n",
       "        vertical-align: middle;\n",
       "    }\n",
       "\n",
       "    .dataframe tbody tr th {\n",
       "        vertical-align: top;\n",
       "    }\n",
       "\n",
       "    .dataframe thead th {\n",
       "        text-align: right;\n",
       "    }\n",
       "</style>\n",
       "<table border=\"1\" class=\"dataframe\">\n",
       "  <thead>\n",
       "    <tr style=\"text-align: right;\">\n",
       "      <th></th>\n",
       "      <th>url</th>\n",
       "      <th>name</th>\n",
       "      <th>online_order</th>\n",
       "      <th>book_table</th>\n",
       "      <th>rate</th>\n",
       "      <th>votes</th>\n",
       "      <th>location</th>\n",
       "      <th>rest_type</th>\n",
       "      <th>approx_cost(for two people)</th>\n",
       "      <th>listed_in(type)</th>\n",
       "      <th>listed_in(city)</th>\n",
       "    </tr>\n",
       "  </thead>\n",
       "  <tbody>\n",
       "    <tr>\n",
       "      <th>1662</th>\n",
       "      <td>https://www.zomato.com/bangalore/papa-khan-ras...</td>\n",
       "      <td>Papa Khan Rasoi</td>\n",
       "      <td>No</td>\n",
       "      <td>No</td>\n",
       "      <td>NaN</td>\n",
       "      <td>0</td>\n",
       "      <td>NaN</td>\n",
       "      <td>NaN</td>\n",
       "      <td>NaN</td>\n",
       "      <td>Delivery</td>\n",
       "      <td>Bannerghatta Road</td>\n",
       "    </tr>\n",
       "    <tr>\n",
       "      <th>9874</th>\n",
       "      <td>https://www.zomato.com/bangalore/papa-khan-ras...</td>\n",
       "      <td>Papa Khan Rasoi</td>\n",
       "      <td>No</td>\n",
       "      <td>No</td>\n",
       "      <td>NaN</td>\n",
       "      <td>0</td>\n",
       "      <td>NaN</td>\n",
       "      <td>NaN</td>\n",
       "      <td>NaN</td>\n",
       "      <td>Delivery</td>\n",
       "      <td>BTM</td>\n",
       "    </tr>\n",
       "    <tr>\n",
       "      <th>13693</th>\n",
       "      <td>https://www.zomato.com/bangalore/mohabbat-desi...</td>\n",
       "      <td>Mohabbat Desi Restaurant</td>\n",
       "      <td>No</td>\n",
       "      <td>No</td>\n",
       "      <td>NaN</td>\n",
       "      <td>0</td>\n",
       "      <td>NaN</td>\n",
       "      <td>NaN</td>\n",
       "      <td>NaN</td>\n",
       "      <td>Delivery</td>\n",
       "      <td>Electronic City</td>\n",
       "    </tr>\n",
       "    <tr>\n",
       "      <th>16351</th>\n",
       "      <td>https://www.zomato.com/bangalore/desi-chatkara...</td>\n",
       "      <td>Desi Chatkara</td>\n",
       "      <td>No</td>\n",
       "      <td>No</td>\n",
       "      <td>NaN</td>\n",
       "      <td>0</td>\n",
       "      <td>NaN</td>\n",
       "      <td>NaN</td>\n",
       "      <td>NaN</td>\n",
       "      <td>Delivery</td>\n",
       "      <td>HSR</td>\n",
       "    </tr>\n",
       "    <tr>\n",
       "      <th>26432</th>\n",
       "      <td>https://www.zomato.com/bangalore/new-taj-birya...</td>\n",
       "      <td>New Taj Biryani Centre</td>\n",
       "      <td>No</td>\n",
       "      <td>No</td>\n",
       "      <td>NaN</td>\n",
       "      <td>0</td>\n",
       "      <td>NaN</td>\n",
       "      <td>NaN</td>\n",
       "      <td>NaN</td>\n",
       "      <td>Dine-out</td>\n",
       "      <td>Kammanahalli</td>\n",
       "    </tr>\n",
       "  </tbody>\n",
       "</table>\n",
       "</div>"
      ],
      "text/plain": [
       "                                                     url  \\\n",
       "1662   https://www.zomato.com/bangalore/papa-khan-ras...   \n",
       "9874   https://www.zomato.com/bangalore/papa-khan-ras...   \n",
       "13693  https://www.zomato.com/bangalore/mohabbat-desi...   \n",
       "16351  https://www.zomato.com/bangalore/desi-chatkara...   \n",
       "26432  https://www.zomato.com/bangalore/new-taj-birya...   \n",
       "\n",
       "                           name online_order book_table rate  votes location  \\\n",
       "1662            Papa Khan Rasoi           No         No  NaN      0      NaN   \n",
       "9874            Papa Khan Rasoi           No         No  NaN      0      NaN   \n",
       "13693  Mohabbat Desi Restaurant           No         No  NaN      0      NaN   \n",
       "16351             Desi Chatkara           No         No  NaN      0      NaN   \n",
       "26432    New Taj Biryani Centre           No         No  NaN      0      NaN   \n",
       "\n",
       "      rest_type approx_cost(for two people) listed_in(type)    listed_in(city)  \n",
       "1662        NaN                         NaN        Delivery  Bannerghatta Road  \n",
       "9874        NaN                         NaN        Delivery                BTM  \n",
       "13693       NaN                         NaN        Delivery    Electronic City  \n",
       "16351       NaN                         NaN        Delivery                HSR  \n",
       "26432       NaN                         NaN        Dine-out       Kammanahalli  "
      ]
     },
     "execution_count": 10,
     "metadata": {},
     "output_type": "execute_result"
    }
   ],
   "source": [
    "df2.loc[df2['location'].isnull()].head() # same as above but for location"
   ]
  },
  {
   "cell_type": "code",
   "execution_count": 11,
   "id": "c155755f-b3d3-4895-93a6-f739c6755d59",
   "metadata": {},
   "outputs": [],
   "source": [
    "df2.drop(columns=['location', 'rest_type'], inplace = True) # these column has NULL values unlike the other duplicate who has data in it so, bye bye"
   ]
  },
  {
   "cell_type": "code",
   "execution_count": 12,
   "id": "6916aafd-6b28-46e4-8f8b-8a15a1962155",
   "metadata": {
    "scrolled": true
   },
   "outputs": [
    {
     "data": {
      "text/html": [
       "<div>\n",
       "<style scoped>\n",
       "    .dataframe tbody tr th:only-of-type {\n",
       "        vertical-align: middle;\n",
       "    }\n",
       "\n",
       "    .dataframe tbody tr th {\n",
       "        vertical-align: top;\n",
       "    }\n",
       "\n",
       "    .dataframe thead th {\n",
       "        text-align: right;\n",
       "    }\n",
       "</style>\n",
       "<table border=\"1\" class=\"dataframe\">\n",
       "  <thead>\n",
       "    <tr style=\"text-align: right;\">\n",
       "      <th></th>\n",
       "      <th>url</th>\n",
       "      <th>name</th>\n",
       "      <th>online_order</th>\n",
       "      <th>book_table</th>\n",
       "      <th>rate</th>\n",
       "      <th>votes</th>\n",
       "      <th>approx_cost(for two people)</th>\n",
       "      <th>listed_in(type)</th>\n",
       "      <th>listed_in(city)</th>\n",
       "    </tr>\n",
       "  </thead>\n",
       "  <tbody>\n",
       "    <tr>\n",
       "      <th>0</th>\n",
       "      <td>https://www.zomato.com/bangalore/jalsa-banasha...</td>\n",
       "      <td>Jalsa</td>\n",
       "      <td>Yes</td>\n",
       "      <td>Yes</td>\n",
       "      <td>4.1/5</td>\n",
       "      <td>775</td>\n",
       "      <td>800</td>\n",
       "      <td>Buffet</td>\n",
       "      <td>Banashankari</td>\n",
       "    </tr>\n",
       "    <tr>\n",
       "      <th>1</th>\n",
       "      <td>https://www.zomato.com/bangalore/spice-elephan...</td>\n",
       "      <td>Spice Elephant</td>\n",
       "      <td>Yes</td>\n",
       "      <td>No</td>\n",
       "      <td>4.1/5</td>\n",
       "      <td>787</td>\n",
       "      <td>800</td>\n",
       "      <td>Buffet</td>\n",
       "      <td>Banashankari</td>\n",
       "    </tr>\n",
       "    <tr>\n",
       "      <th>2</th>\n",
       "      <td>https://www.zomato.com/SanchurroBangalore?cont...</td>\n",
       "      <td>San Churro Cafe</td>\n",
       "      <td>Yes</td>\n",
       "      <td>No</td>\n",
       "      <td>3.8/5</td>\n",
       "      <td>918</td>\n",
       "      <td>800</td>\n",
       "      <td>Buffet</td>\n",
       "      <td>Banashankari</td>\n",
       "    </tr>\n",
       "    <tr>\n",
       "      <th>3</th>\n",
       "      <td>https://www.zomato.com/bangalore/addhuri-udupi...</td>\n",
       "      <td>Addhuri Udupi Bhojana</td>\n",
       "      <td>No</td>\n",
       "      <td>No</td>\n",
       "      <td>3.7/5</td>\n",
       "      <td>88</td>\n",
       "      <td>300</td>\n",
       "      <td>Buffet</td>\n",
       "      <td>Banashankari</td>\n",
       "    </tr>\n",
       "    <tr>\n",
       "      <th>4</th>\n",
       "      <td>https://www.zomato.com/bangalore/grand-village...</td>\n",
       "      <td>Grand Village</td>\n",
       "      <td>No</td>\n",
       "      <td>No</td>\n",
       "      <td>3.8/5</td>\n",
       "      <td>166</td>\n",
       "      <td>600</td>\n",
       "      <td>Buffet</td>\n",
       "      <td>Banashankari</td>\n",
       "    </tr>\n",
       "  </tbody>\n",
       "</table>\n",
       "</div>"
      ],
      "text/plain": [
       "                                                 url                   name  \\\n",
       "0  https://www.zomato.com/bangalore/jalsa-banasha...                  Jalsa   \n",
       "1  https://www.zomato.com/bangalore/spice-elephan...         Spice Elephant   \n",
       "2  https://www.zomato.com/SanchurroBangalore?cont...        San Churro Cafe   \n",
       "3  https://www.zomato.com/bangalore/addhuri-udupi...  Addhuri Udupi Bhojana   \n",
       "4  https://www.zomato.com/bangalore/grand-village...          Grand Village   \n",
       "\n",
       "  online_order book_table   rate  votes approx_cost(for two people)  \\\n",
       "0          Yes        Yes  4.1/5    775                         800   \n",
       "1          Yes         No  4.1/5    787                         800   \n",
       "2          Yes         No  3.8/5    918                         800   \n",
       "3           No         No  3.7/5     88                         300   \n",
       "4           No         No  3.8/5    166                         600   \n",
       "\n",
       "  listed_in(type) listed_in(city)  \n",
       "0          Buffet    Banashankari  \n",
       "1          Buffet    Banashankari  \n",
       "2          Buffet    Banashankari  \n",
       "3          Buffet    Banashankari  \n",
       "4          Buffet    Banashankari  "
      ]
     },
     "execution_count": 12,
     "metadata": {},
     "output_type": "execute_result"
    }
   ],
   "source": [
    "df2.head() # looking nice"
   ]
  },
  {
   "cell_type": "code",
   "execution_count": 13,
   "id": "f31e6520-cc95-44ab-952f-848621c911e9",
   "metadata": {},
   "outputs": [],
   "source": [
    "df3 = df2.copy() # another one"
   ]
  },
  {
   "cell_type": "code",
   "execution_count": 14,
   "id": "d3e132ac-2107-44e0-9494-e063dfc6d954",
   "metadata": {},
   "outputs": [],
   "source": [
    "# renaming so for convinience and make it look pretty\n",
    "df3 = df2.rename(columns={'approx_cost(for two people)': 'cost_for_two', 'listed_in(type)': 'type', 'listed_in(city)': 'location', 'rate':'ratings'})"
   ]
  },
  {
   "cell_type": "code",
   "execution_count": 15,
   "id": "de433c7b-3596-4cdb-b673-a11009ecbdde",
   "metadata": {},
   "outputs": [
    {
     "data": {
      "text/plain": [
       "Index(['url', 'name', 'online_order', 'book_table', 'ratings', 'votes',\n",
       "       'cost_for_two', 'type', 'location'],\n",
       "      dtype='object')"
      ]
     },
     "execution_count": 15,
     "metadata": {},
     "output_type": "execute_result"
    }
   ],
   "source": [
    "df3.columns # looks good"
   ]
  },
  {
   "cell_type": "code",
   "execution_count": 16,
   "id": "e514b5bc-f783-4e4b-b481-b9242a7247a6",
   "metadata": {},
   "outputs": [
    {
     "name": "stdout",
     "output_type": "stream",
     "text": [
      "<class 'pandas.core.frame.DataFrame'>\n",
      "RangeIndex: 51717 entries, 0 to 51716\n",
      "Data columns (total 9 columns):\n",
      " #   Column        Non-Null Count  Dtype \n",
      "---  ------        --------------  ----- \n",
      " 0   url           51717 non-null  object\n",
      " 1   name          51717 non-null  object\n",
      " 2   online_order  51717 non-null  object\n",
      " 3   book_table    51717 non-null  object\n",
      " 4   ratings       43942 non-null  object\n",
      " 5   votes         51717 non-null  int64 \n",
      " 6   cost_for_two  51371 non-null  object\n",
      " 7   type          51717 non-null  object\n",
      " 8   location      51717 non-null  object\n",
      "dtypes: int64(1), object(8)\n",
      "memory usage: 3.6+ MB\n"
     ]
    }
   ],
   "source": [
    "df3.info() # time to deal with the other NULL values"
   ]
  },
  {
   "cell_type": "code",
   "execution_count": 17,
   "id": "284ca5d8-ee09-483d-bd89-c2d4f6746ac6",
   "metadata": {},
   "outputs": [
    {
     "data": {
      "text/html": [
       "<div>\n",
       "<style scoped>\n",
       "    .dataframe tbody tr th:only-of-type {\n",
       "        vertical-align: middle;\n",
       "    }\n",
       "\n",
       "    .dataframe tbody tr th {\n",
       "        vertical-align: top;\n",
       "    }\n",
       "\n",
       "    .dataframe thead th {\n",
       "        text-align: right;\n",
       "    }\n",
       "</style>\n",
       "<table border=\"1\" class=\"dataframe\">\n",
       "  <thead>\n",
       "    <tr style=\"text-align: right;\">\n",
       "      <th></th>\n",
       "      <th>url</th>\n",
       "      <th>name</th>\n",
       "      <th>online_order</th>\n",
       "      <th>book_table</th>\n",
       "      <th>ratings</th>\n",
       "      <th>votes</th>\n",
       "      <th>cost_for_two</th>\n",
       "      <th>type</th>\n",
       "      <th>location</th>\n",
       "    </tr>\n",
       "  </thead>\n",
       "  <tbody>\n",
       "    <tr>\n",
       "      <th>84</th>\n",
       "      <td>https://www.zomato.com/bangalore/chill-out-ban...</td>\n",
       "      <td>Chill Out</td>\n",
       "      <td>No</td>\n",
       "      <td>No</td>\n",
       "      <td>NaN</td>\n",
       "      <td>0</td>\n",
       "      <td>100</td>\n",
       "      <td>Delivery</td>\n",
       "      <td>Banashankari</td>\n",
       "    </tr>\n",
       "    <tr>\n",
       "      <th>90</th>\n",
       "      <td>https://www.zomato.com/bangalore/me-and-my-cak...</td>\n",
       "      <td>Me And My Cake</td>\n",
       "      <td>No</td>\n",
       "      <td>No</td>\n",
       "      <td>NaN</td>\n",
       "      <td>0</td>\n",
       "      <td>500</td>\n",
       "      <td>Delivery</td>\n",
       "      <td>Banashankari</td>\n",
       "    </tr>\n",
       "    <tr>\n",
       "      <th>91</th>\n",
       "      <td>https://www.zomato.com/bangalore/sunsadm-banas...</td>\n",
       "      <td>Sunsadm</td>\n",
       "      <td>No</td>\n",
       "      <td>No</td>\n",
       "      <td>NaN</td>\n",
       "      <td>0</td>\n",
       "      <td>400</td>\n",
       "      <td>Delivery</td>\n",
       "      <td>Banashankari</td>\n",
       "    </tr>\n",
       "    <tr>\n",
       "      <th>92</th>\n",
       "      <td>https://www.zomato.com/bangalore/annapooranesh...</td>\n",
       "      <td>Annapooraneshwari Mess</td>\n",
       "      <td>No</td>\n",
       "      <td>No</td>\n",
       "      <td>NaN</td>\n",
       "      <td>0</td>\n",
       "      <td>200</td>\n",
       "      <td>Delivery</td>\n",
       "      <td>Banashankari</td>\n",
       "    </tr>\n",
       "    <tr>\n",
       "      <th>107</th>\n",
       "      <td>https://www.zomato.com/bangalore/coffee-shopee...</td>\n",
       "      <td>Coffee Shopee</td>\n",
       "      <td>No</td>\n",
       "      <td>No</td>\n",
       "      <td>NaN</td>\n",
       "      <td>0</td>\n",
       "      <td>250</td>\n",
       "      <td>Delivery</td>\n",
       "      <td>Banashankari</td>\n",
       "    </tr>\n",
       "  </tbody>\n",
       "</table>\n",
       "</div>"
      ],
      "text/plain": [
       "                                                   url  \\\n",
       "84   https://www.zomato.com/bangalore/chill-out-ban...   \n",
       "90   https://www.zomato.com/bangalore/me-and-my-cak...   \n",
       "91   https://www.zomato.com/bangalore/sunsadm-banas...   \n",
       "92   https://www.zomato.com/bangalore/annapooranesh...   \n",
       "107  https://www.zomato.com/bangalore/coffee-shopee...   \n",
       "\n",
       "                       name online_order book_table ratings  votes  \\\n",
       "84                Chill Out           No         No     NaN      0   \n",
       "90           Me And My Cake           No         No     NaN      0   \n",
       "91                  Sunsadm           No         No     NaN      0   \n",
       "92   Annapooraneshwari Mess           No         No     NaN      0   \n",
       "107           Coffee Shopee           No         No     NaN      0   \n",
       "\n",
       "    cost_for_two      type      location  \n",
       "84           100  Delivery  Banashankari  \n",
       "90           500  Delivery  Banashankari  \n",
       "91           400  Delivery  Banashankari  \n",
       "92           200  Delivery  Banashankari  \n",
       "107          250  Delivery  Banashankari  "
      ]
     },
     "execution_count": 17,
     "metadata": {},
     "output_type": "execute_result"
    }
   ],
   "source": [
    "# isolating data that has missing values in cost_for_two or ratings column\n",
    "missing = df3.loc[(df3['cost_for_two'].isnull()) | (df3['ratings'].isnull())]\n",
    "missing.head()"
   ]
  },
  {
   "cell_type": "code",
   "execution_count": 18,
   "id": "71351ad1-b433-40ac-8d4c-dd3da02e9d2a",
   "metadata": {},
   "outputs": [],
   "source": [
    "df3.drop(missing.index, inplace = True) # dropping the missing values by index, bye bye"
   ]
  },
  {
   "cell_type": "code",
   "execution_count": 19,
   "id": "0befaa51-ba97-42b1-b341-332ccf9e7950",
   "metadata": {},
   "outputs": [
    {
     "name": "stdout",
     "output_type": "stream",
     "text": [
      "<class 'pandas.core.frame.DataFrame'>\n",
      "Index: 43690 entries, 0 to 51716\n",
      "Data columns (total 9 columns):\n",
      " #   Column        Non-Null Count  Dtype \n",
      "---  ------        --------------  ----- \n",
      " 0   url           43690 non-null  object\n",
      " 1   name          43690 non-null  object\n",
      " 2   online_order  43690 non-null  object\n",
      " 3   book_table    43690 non-null  object\n",
      " 4   ratings       43690 non-null  object\n",
      " 5   votes         43690 non-null  int64 \n",
      " 6   cost_for_two  43690 non-null  object\n",
      " 7   type          43690 non-null  object\n",
      " 8   location      43690 non-null  object\n",
      "dtypes: int64(1), object(8)\n",
      "memory usage: 3.3+ MB\n"
     ]
    }
   ],
   "source": [
    "df3.info() # nice and clean"
   ]
  },
  {
   "cell_type": "code",
   "execution_count": 20,
   "id": "84a38564-6ce4-4dfb-b2d1-e382a31ad9cc",
   "metadata": {},
   "outputs": [],
   "source": [
    "df3.reset_index(drop=True, inplace=True) # resetting index"
   ]
  },
  {
   "cell_type": "code",
   "execution_count": 21,
   "id": "9058e9cf-3156-4550-b57d-0ad47837fb6d",
   "metadata": {},
   "outputs": [],
   "source": [
    "df4 = df3.copy() # another one"
   ]
  },
  {
   "cell_type": "code",
   "execution_count": 22,
   "id": "33cf42eb-194f-48e3-a849-0969756c9a46",
   "metadata": {
    "scrolled": true
   },
   "outputs": [
    {
     "data": {
      "text/html": [
       "<div>\n",
       "<style scoped>\n",
       "    .dataframe tbody tr th:only-of-type {\n",
       "        vertical-align: middle;\n",
       "    }\n",
       "\n",
       "    .dataframe tbody tr th {\n",
       "        vertical-align: top;\n",
       "    }\n",
       "\n",
       "    .dataframe thead th {\n",
       "        text-align: right;\n",
       "    }\n",
       "</style>\n",
       "<table border=\"1\" class=\"dataframe\">\n",
       "  <thead>\n",
       "    <tr style=\"text-align: right;\">\n",
       "      <th></th>\n",
       "      <th>online_order</th>\n",
       "      <th>book_table</th>\n",
       "    </tr>\n",
       "  </thead>\n",
       "  <tbody>\n",
       "    <tr>\n",
       "      <th>0</th>\n",
       "      <td>True</td>\n",
       "      <td>True</td>\n",
       "    </tr>\n",
       "    <tr>\n",
       "      <th>1</th>\n",
       "      <td>True</td>\n",
       "      <td>False</td>\n",
       "    </tr>\n",
       "    <tr>\n",
       "      <th>2</th>\n",
       "      <td>True</td>\n",
       "      <td>False</td>\n",
       "    </tr>\n",
       "    <tr>\n",
       "      <th>3</th>\n",
       "      <td>False</td>\n",
       "      <td>False</td>\n",
       "    </tr>\n",
       "    <tr>\n",
       "      <th>4</th>\n",
       "      <td>False</td>\n",
       "      <td>False</td>\n",
       "    </tr>\n",
       "  </tbody>\n",
       "</table>\n",
       "</div>"
      ],
      "text/plain": [
       "   online_order  book_table\n",
       "0          True        True\n",
       "1          True       False\n",
       "2          True       False\n",
       "3         False       False\n",
       "4         False       False"
      ]
     },
     "execution_count": 22,
     "metadata": {},
     "output_type": "execute_result"
    }
   ],
   "source": [
    "#changing data type\n",
    "df4[['online_order', 'book_table']] = df4[['online_order', 'book_table']].replace({'Yes':True,'No':False})\n",
    "df4[['online_order', 'book_table']].head()"
   ]
  },
  {
   "cell_type": "code",
   "execution_count": 23,
   "id": "47027321-722d-40f6-b0df-6bf5f91c3804",
   "metadata": {},
   "outputs": [],
   "source": [
    "# removing substring to change into the correct data type\n",
    "df4['cost_for_two'] = df4['cost_for_two'].str.replace(',', '')\n",
    "df4['cost_for_two'] = df4['cost_for_two'].astype(int)"
   ]
  },
  {
   "cell_type": "code",
   "execution_count": 24,
   "id": "60437760-7300-467a-b6a4-c015c9501ca1",
   "metadata": {
    "scrolled": true
   },
   "outputs": [
    {
     "name": "stdout",
     "output_type": "stream",
     "text": [
      "<class 'pandas.core.frame.DataFrame'>\n",
      "RangeIndex: 43690 entries, 0 to 43689\n",
      "Data columns (total 9 columns):\n",
      " #   Column        Non-Null Count  Dtype \n",
      "---  ------        --------------  ----- \n",
      " 0   url           43690 non-null  object\n",
      " 1   name          43690 non-null  object\n",
      " 2   online_order  43690 non-null  bool  \n",
      " 3   book_table    43690 non-null  bool  \n",
      " 4   ratings       43690 non-null  object\n",
      " 5   votes         43690 non-null  int64 \n",
      " 6   cost_for_two  43690 non-null  int64 \n",
      " 7   type          43690 non-null  object\n",
      " 8   location      43690 non-null  object\n",
      "dtypes: bool(2), int64(2), object(5)\n",
      "memory usage: 2.4+ MB\n"
     ]
    }
   ],
   "source": [
    "df4.info() # very nice"
   ]
  },
  {
   "cell_type": "code",
   "execution_count": 25,
   "id": "44817948-5466-4c5b-ab74-0ce42f612f05",
   "metadata": {},
   "outputs": [],
   "source": [
    "# replacing substring for ratings column\n",
    "df4['ratings'] = df4['ratings'].str.replace('/5', '').str.replace('-', 'NEW')"
   ]
  },
  {
   "cell_type": "code",
   "execution_count": 26,
   "id": "9ab216e9-0790-48d3-a142-3eab6b341d90",
   "metadata": {},
   "outputs": [],
   "source": [
    "df5 = df4.copy() # checkpointtt!"
   ]
  },
  {
   "cell_type": "code",
   "execution_count": 27,
   "id": "8f811ef9-7eba-4ac6-9051-231fb22aa7f3",
   "metadata": {},
   "outputs": [
    {
     "data": {
      "text/html": [
       "<div>\n",
       "<style scoped>\n",
       "    .dataframe tbody tr th:only-of-type {\n",
       "        vertical-align: middle;\n",
       "    }\n",
       "\n",
       "    .dataframe tbody tr th {\n",
       "        vertical-align: top;\n",
       "    }\n",
       "\n",
       "    .dataframe thead th {\n",
       "        text-align: right;\n",
       "    }\n",
       "</style>\n",
       "<table border=\"1\" class=\"dataframe\">\n",
       "  <thead>\n",
       "    <tr style=\"text-align: right;\">\n",
       "      <th></th>\n",
       "      <th>url</th>\n",
       "      <th>name</th>\n",
       "      <th>online_order</th>\n",
       "      <th>book_table</th>\n",
       "      <th>ratings</th>\n",
       "      <th>votes</th>\n",
       "      <th>cost_for_two</th>\n",
       "      <th>type</th>\n",
       "      <th>location</th>\n",
       "    </tr>\n",
       "  </thead>\n",
       "  <tbody>\n",
       "    <tr>\n",
       "      <th>41686</th>\n",
       "      <td>https://www.zomato.com/bangalore/byg-brewski-b...</td>\n",
       "      <td>Byg Brewski Brewing Company</td>\n",
       "      <td>True</td>\n",
       "      <td>True</td>\n",
       "      <td>4.9</td>\n",
       "      <td>16832</td>\n",
       "      <td>1600</td>\n",
       "      <td>Delivery</td>\n",
       "      <td>Sarjapur Road</td>\n",
       "    </tr>\n",
       "    <tr>\n",
       "      <th>42034</th>\n",
       "      <td>https://www.zomato.com/bangalore/byg-brewski-b...</td>\n",
       "      <td>Byg Brewski Brewing Company</td>\n",
       "      <td>True</td>\n",
       "      <td>True</td>\n",
       "      <td>4.9</td>\n",
       "      <td>16832</td>\n",
       "      <td>1600</td>\n",
       "      <td>Dine-out</td>\n",
       "      <td>Sarjapur Road</td>\n",
       "    </tr>\n",
       "    <tr>\n",
       "      <th>42400</th>\n",
       "      <td>https://www.zomato.com/bangalore/byg-brewski-b...</td>\n",
       "      <td>Byg Brewski Brewing Company</td>\n",
       "      <td>True</td>\n",
       "      <td>True</td>\n",
       "      <td>4.9</td>\n",
       "      <td>16832</td>\n",
       "      <td>1600</td>\n",
       "      <td>Drinks &amp; nightlife</td>\n",
       "      <td>Sarjapur Road</td>\n",
       "    </tr>\n",
       "  </tbody>\n",
       "</table>\n",
       "</div>"
      ],
      "text/plain": [
       "                                                     url  \\\n",
       "41686  https://www.zomato.com/bangalore/byg-brewski-b...   \n",
       "42034  https://www.zomato.com/bangalore/byg-brewski-b...   \n",
       "42400  https://www.zomato.com/bangalore/byg-brewski-b...   \n",
       "\n",
       "                              name  online_order  book_table ratings  votes  \\\n",
       "41686  Byg Brewski Brewing Company          True        True    4.9   16832   \n",
       "42034  Byg Brewski Brewing Company          True        True    4.9   16832   \n",
       "42400  Byg Brewski Brewing Company          True        True    4.9   16832   \n",
       "\n",
       "       cost_for_two                type       location  \n",
       "41686          1600            Delivery  Sarjapur Road  \n",
       "42034          1600            Dine-out  Sarjapur Road  \n",
       "42400          1600  Drinks & nightlife  Sarjapur Road  "
      ]
     },
     "execution_count": 27,
     "metadata": {},
     "output_type": "execute_result"
    }
   ],
   "source": [
    "df5.loc[df5['votes'] == 16832]"
   ]
  },
  {
   "cell_type": "code",
   "execution_count": 28,
   "id": "c12bd0f9-a305-440a-93b0-e7f34052d658",
   "metadata": {},
   "outputs": [],
   "source": [
    "# Find duplicate names T^T\n",
    "duplicated_names = df5[df5['name'].duplicated(keep=False)]['name'].unique()\n",
    "\n",
    "# For each duplicated name, identify the rows with 'delivery' or 'dine-out' to be dropped ಠ╭╮ಠ\n",
    "rows_to_drop = []\n",
    "for name in duplicated_names:\n",
    "    sub_df = df5[df5['name'] == name]\n",
    "    drop_index = sub_df[(sub_df['type'] == 'Delivery') | (sub_df['type'] == 'Dine-out')].index\n",
    "    rows_to_drop.extend(drop_index)\n",
    "\n",
    "# Drop the identified rows (づ￣ ³￣)づ\n",
    "df5 = df4.drop(rows_to_drop)"
   ]
  },
  {
   "cell_type": "code",
   "execution_count": 29,
   "id": "89118d7a-1045-4682-b38b-43fe04cedec4",
   "metadata": {},
   "outputs": [],
   "source": [
    "# saving a csv file only for restaurants that's new\n",
    "data_new = df5.loc[df5['ratings'] == 'NEW']\n",
    "data_new.to_csv(\"new_resto.csv\", index = False) # saveeeee"
   ]
  },
  {
   "cell_type": "code",
   "execution_count": 30,
   "id": "7a7f6100-69de-41e7-8e39-28dbfddddddf",
   "metadata": {},
   "outputs": [],
   "source": [
    "df6 = df5.loc[df5['ratings'] != 'NEW'] # dataframe for restaurant "
   ]
  },
  {
   "cell_type": "code",
   "execution_count": 31,
   "id": "40a20add-59f1-49f6-9a6b-14e015b229ae",
   "metadata": {},
   "outputs": [
    {
     "name": "stdout",
     "output_type": "stream",
     "text": [
      "2 invalid data\n",
      "                                                     url  \\\n",
      "7085   https://www.zomato.com/bangalore/tangerine-dav...   \n",
      "18366  https://www.zomato.com/bangalore/sri-brahmi-ku...   \n",
      "\n",
      "                                             name  online_order  book_table  \\\n",
      "7085   Tangerine - Davanam Sarovar Portico Suites          True        True   \n",
      "18366                          Sri Brahmi Kuteera         False       False   \n",
      "\n",
      "      ratings  votes  cost_for_two      type   location  \n",
      "7085      4.0      0          1100    Buffet        BTM  \n",
      "18366    3.4       0           150  Dine-out  Jayanagar  \n"
     ]
    }
   ],
   "source": [
    "# Removing rows that has rating but no votes ._. no cheating bro\n",
    "invalid = df6.loc[df6['votes'] == 0] \n",
    "print(f\"{len(invalid)} invalid data\")\n",
    "invalid\n",
    "data = df6.drop(invalid.index)\n",
    "data.reset_index(drop = True, inplace = True)"
   ]
  },
  {
   "cell_type": "code",
   "execution_count": 32,
   "id": "dae75419-c099-4723-a8ab-8c69d2e7c903",
   "metadata": {},
   "outputs": [],
   "source": [
    "data.loc[:, 'ratings'] = data['ratings'].astype(float) # changing the ratings into the correct data type\n",
    "data.to_csv(\"resto.csv\", index = False) # saving the file!"
   ]
  },
  {
   "cell_type": "markdown",
   "id": "ec3526bd-237b-4c71-a83a-cdb9e50bab70",
   "metadata": {},
   "source": [
    "---"
   ]
  },
  {
   "cell_type": "markdown",
   "id": "2654467d-de7a-401d-a00a-7a088c83fe31",
   "metadata": {},
   "source": [
    "# Data Analysis"
   ]
  },
  {
   "cell_type": "code",
   "execution_count": 221,
   "id": "24282de9-b3ec-497c-a29e-2725eb8d324f",
   "metadata": {},
   "outputs": [],
   "source": [
    "# we'll be needing this\n",
    "from scipy import stats\n",
    "from scipy.stats import ttest_ind\n",
    "import numpy as np\n",
    "import pandas as pd\n",
    "from scipy.stats import spearmanr\n",
    "import seaborn\n",
    "import matplotlib.pyplot as plt\n",
    "import seaborn as sns"
   ]
  },
  {
   "cell_type": "markdown",
   "id": "90fb5af6-939d-47eb-83c8-216938ad8077",
   "metadata": {},
   "source": [
    "## General View"
   ]
  },
  {
   "cell_type": "code",
   "execution_count": 222,
   "id": "ff8892d3-6ed9-4e97-89c5-586d3c5e31f7",
   "metadata": {},
   "outputs": [],
   "source": [
    "df = pd.read_csv(\"resto.csv\") # reading the cleaned file (⁠⁠ꈍ⁠ᴗ⁠ꈍ⁠)"
   ]
  },
  {
   "cell_type": "code",
   "execution_count": 223,
   "id": "70c8b5ea-e236-4f6b-aa51-69c870f6c41c",
   "metadata": {},
   "outputs": [
    {
     "data": {
      "text/html": [
       "<div>\n",
       "<style scoped>\n",
       "    .dataframe tbody tr th:only-of-type {\n",
       "        vertical-align: middle;\n",
       "    }\n",
       "\n",
       "    .dataframe tbody tr th {\n",
       "        vertical-align: top;\n",
       "    }\n",
       "\n",
       "    .dataframe thead th {\n",
       "        text-align: right;\n",
       "    }\n",
       "</style>\n",
       "<table border=\"1\" class=\"dataframe\">\n",
       "  <thead>\n",
       "    <tr style=\"text-align: right;\">\n",
       "      <th></th>\n",
       "      <th>url</th>\n",
       "      <th>name</th>\n",
       "      <th>online_order</th>\n",
       "      <th>book_table</th>\n",
       "      <th>ratings</th>\n",
       "      <th>votes</th>\n",
       "      <th>cost_for_two</th>\n",
       "      <th>type</th>\n",
       "      <th>location</th>\n",
       "    </tr>\n",
       "  </thead>\n",
       "  <tbody>\n",
       "    <tr>\n",
       "      <th>0</th>\n",
       "      <td>https://www.zomato.com/bangalore/jalsa-banasha...</td>\n",
       "      <td>Jalsa</td>\n",
       "      <td>True</td>\n",
       "      <td>True</td>\n",
       "      <td>4.1</td>\n",
       "      <td>775</td>\n",
       "      <td>800</td>\n",
       "      <td>Buffet</td>\n",
       "      <td>Banashankari</td>\n",
       "    </tr>\n",
       "    <tr>\n",
       "      <th>1</th>\n",
       "      <td>https://www.zomato.com/bangalore/spice-elephan...</td>\n",
       "      <td>Spice Elephant</td>\n",
       "      <td>True</td>\n",
       "      <td>False</td>\n",
       "      <td>4.1</td>\n",
       "      <td>787</td>\n",
       "      <td>800</td>\n",
       "      <td>Buffet</td>\n",
       "      <td>Banashankari</td>\n",
       "    </tr>\n",
       "    <tr>\n",
       "      <th>2</th>\n",
       "      <td>https://www.zomato.com/SanchurroBangalore?cont...</td>\n",
       "      <td>San Churro Cafe</td>\n",
       "      <td>True</td>\n",
       "      <td>False</td>\n",
       "      <td>3.8</td>\n",
       "      <td>918</td>\n",
       "      <td>800</td>\n",
       "      <td>Buffet</td>\n",
       "      <td>Banashankari</td>\n",
       "    </tr>\n",
       "    <tr>\n",
       "      <th>3</th>\n",
       "      <td>https://www.zomato.com/bangalore/addhuri-udupi...</td>\n",
       "      <td>Addhuri Udupi Bhojana</td>\n",
       "      <td>False</td>\n",
       "      <td>False</td>\n",
       "      <td>3.7</td>\n",
       "      <td>88</td>\n",
       "      <td>300</td>\n",
       "      <td>Buffet</td>\n",
       "      <td>Banashankari</td>\n",
       "    </tr>\n",
       "    <tr>\n",
       "      <th>4</th>\n",
       "      <td>https://www.zomato.com/bangalore/grand-village...</td>\n",
       "      <td>Grand Village</td>\n",
       "      <td>False</td>\n",
       "      <td>False</td>\n",
       "      <td>3.8</td>\n",
       "      <td>166</td>\n",
       "      <td>600</td>\n",
       "      <td>Buffet</td>\n",
       "      <td>Banashankari</td>\n",
       "    </tr>\n",
       "  </tbody>\n",
       "</table>\n",
       "</div>"
      ],
      "text/plain": [
       "                                                 url                   name  \\\n",
       "0  https://www.zomato.com/bangalore/jalsa-banasha...                  Jalsa   \n",
       "1  https://www.zomato.com/bangalore/spice-elephan...         Spice Elephant   \n",
       "2  https://www.zomato.com/SanchurroBangalore?cont...        San Churro Cafe   \n",
       "3  https://www.zomato.com/bangalore/addhuri-udupi...  Addhuri Udupi Bhojana   \n",
       "4  https://www.zomato.com/bangalore/grand-village...          Grand Village   \n",
       "\n",
       "   online_order  book_table  ratings  votes  cost_for_two    type  \\\n",
       "0          True        True      4.1    775           800  Buffet   \n",
       "1          True       False      4.1    787           800  Buffet   \n",
       "2          True       False      3.8    918           800  Buffet   \n",
       "3         False       False      3.7     88           300  Buffet   \n",
       "4         False       False      3.8    166           600  Buffet   \n",
       "\n",
       "       location  \n",
       "0  Banashankari  \n",
       "1  Banashankari  \n",
       "2  Banashankari  \n",
       "3  Banashankari  \n",
       "4  Banashankari  "
      ]
     },
     "execution_count": 223,
     "metadata": {},
     "output_type": "execute_result"
    }
   ],
   "source": [
    "df.head() # top 5 data ╮⁠(⁠.⁠ ⁠❛⁠ ⁠ᴗ⁠ ⁠❛⁠.⁠)⁠╭"
   ]
  },
  {
   "cell_type": "code",
   "execution_count": 224,
   "id": "7ce334b8-ef10-454a-8c33-50694374add8",
   "metadata": {},
   "outputs": [
    {
     "data": {
      "text/html": [
       "<div>\n",
       "<style scoped>\n",
       "    .dataframe tbody tr th:only-of-type {\n",
       "        vertical-align: middle;\n",
       "    }\n",
       "\n",
       "    .dataframe tbody tr th {\n",
       "        vertical-align: top;\n",
       "    }\n",
       "\n",
       "    .dataframe thead th {\n",
       "        text-align: right;\n",
       "    }\n",
       "</style>\n",
       "<table border=\"1\" class=\"dataframe\">\n",
       "  <thead>\n",
       "    <tr style=\"text-align: right;\">\n",
       "      <th></th>\n",
       "      <th>ratings</th>\n",
       "      <th>votes</th>\n",
       "      <th>cost_for_two</th>\n",
       "    </tr>\n",
       "  </thead>\n",
       "  <tbody>\n",
       "    <tr>\n",
       "      <th>count</th>\n",
       "      <td>7332.000000</td>\n",
       "      <td>7332.000000</td>\n",
       "      <td>7332.000000</td>\n",
       "    </tr>\n",
       "    <tr>\n",
       "      <th>mean</th>\n",
       "      <td>3.854774</td>\n",
       "      <td>578.896618</td>\n",
       "      <td>798.846154</td>\n",
       "    </tr>\n",
       "    <tr>\n",
       "      <th>std</th>\n",
       "      <td>0.442233</td>\n",
       "      <td>1278.514204</td>\n",
       "      <td>591.357208</td>\n",
       "    </tr>\n",
       "    <tr>\n",
       "      <th>min</th>\n",
       "      <td>2.000000</td>\n",
       "      <td>2.000000</td>\n",
       "      <td>50.000000</td>\n",
       "    </tr>\n",
       "    <tr>\n",
       "      <th>25%</th>\n",
       "      <td>3.600000</td>\n",
       "      <td>27.000000</td>\n",
       "      <td>400.000000</td>\n",
       "    </tr>\n",
       "    <tr>\n",
       "      <th>50%</th>\n",
       "      <td>3.900000</td>\n",
       "      <td>108.000000</td>\n",
       "      <td>600.000000</td>\n",
       "    </tr>\n",
       "    <tr>\n",
       "      <th>75%</th>\n",
       "      <td>4.200000</td>\n",
       "      <td>510.250000</td>\n",
       "      <td>1100.000000</td>\n",
       "    </tr>\n",
       "    <tr>\n",
       "      <th>max</th>\n",
       "      <td>4.900000</td>\n",
       "      <td>16832.000000</td>\n",
       "      <td>5000.000000</td>\n",
       "    </tr>\n",
       "  </tbody>\n",
       "</table>\n",
       "</div>"
      ],
      "text/plain": [
       "           ratings         votes  cost_for_two\n",
       "count  7332.000000   7332.000000   7332.000000\n",
       "mean      3.854774    578.896618    798.846154\n",
       "std       0.442233   1278.514204    591.357208\n",
       "min       2.000000      2.000000     50.000000\n",
       "25%       3.600000     27.000000    400.000000\n",
       "50%       3.900000    108.000000    600.000000\n",
       "75%       4.200000    510.250000   1100.000000\n",
       "max       4.900000  16832.000000   5000.000000"
      ]
     },
     "execution_count": 224,
     "metadata": {},
     "output_type": "execute_result"
    }
   ],
   "source": [
    "df.describe() # summary of data's that can be aggregated"
   ]
  },
  {
   "cell_type": "code",
   "execution_count": 225,
   "id": "f810c0d9-72be-4177-993e-91d1dfa57980",
   "metadata": {},
   "outputs": [
    {
     "data": {
      "text/plain": [
       "Index(['url', 'name', 'online_order', 'book_table', 'ratings', 'votes',\n",
       "       'cost_for_two', 'type', 'location'],\n",
       "      dtype='object')"
      ]
     },
     "execution_count": 225,
     "metadata": {},
     "output_type": "execute_result"
    }
   ],
   "source": [
    "df.columns # column names ╮⁠(⁠.⁠ ⁠❛⁠ ⁠ᴗ⁠ ⁠❛⁠.⁠)⁠╭"
   ]
  },
  {
   "cell_type": "code",
   "execution_count": 226,
   "id": "d693e957-76cb-4a5d-b892-73e3b165e324",
   "metadata": {},
   "outputs": [
    {
     "data": {
      "text/html": [
       "<div>\n",
       "<style scoped>\n",
       "    .dataframe tbody tr th:only-of-type {\n",
       "        vertical-align: middle;\n",
       "    }\n",
       "\n",
       "    .dataframe tbody tr th {\n",
       "        vertical-align: top;\n",
       "    }\n",
       "\n",
       "    .dataframe thead th {\n",
       "        text-align: right;\n",
       "    }\n",
       "</style>\n",
       "<table border=\"1\" class=\"dataframe\">\n",
       "  <thead>\n",
       "    <tr style=\"text-align: right;\">\n",
       "      <th></th>\n",
       "      <th>section</th>\n",
       "      <th>mean</th>\n",
       "      <th>median</th>\n",
       "      <th>std</th>\n",
       "      <th>skew</th>\n",
       "      <th>kurtosis</th>\n",
       "    </tr>\n",
       "  </thead>\n",
       "  <tbody>\n",
       "    <tr>\n",
       "      <th>0</th>\n",
       "      <td>ratings</td>\n",
       "      <td>3.854774</td>\n",
       "      <td>3.9</td>\n",
       "      <td>0.442233</td>\n",
       "      <td>-0.503771</td>\n",
       "      <td>0.090722</td>\n",
       "    </tr>\n",
       "    <tr>\n",
       "      <th>1</th>\n",
       "      <td>votes</td>\n",
       "      <td>578.896618</td>\n",
       "      <td>108.0</td>\n",
       "      <td>1278.514204</td>\n",
       "      <td>4.857765</td>\n",
       "      <td>33.710626</td>\n",
       "    </tr>\n",
       "    <tr>\n",
       "      <th>2</th>\n",
       "      <td>cost_for_two</td>\n",
       "      <td>798.846154</td>\n",
       "      <td>600.0</td>\n",
       "      <td>591.357208</td>\n",
       "      <td>1.503614</td>\n",
       "      <td>3.112937</td>\n",
       "    </tr>\n",
       "  </tbody>\n",
       "</table>\n",
       "</div>"
      ],
      "text/plain": [
       "        section        mean  median          std      skew   kurtosis\n",
       "0       ratings    3.854774     3.9     0.442233 -0.503771   0.090722\n",
       "1         votes  578.896618   108.0  1278.514204  4.857765  33.710626\n",
       "2  cost_for_two  798.846154   600.0   591.357208  1.503614   3.112937"
      ]
     },
     "execution_count": 226,
     "metadata": {},
     "output_type": "execute_result"
    }
   ],
   "source": [
    "def summarize_data(data, columns):\n",
    "    '''\n",
    "    This function is used to apply aggregation functions to multiple column, making it into a new dataframe.\n",
    "    The parameter used is the dataframe, and the list of columns.\n",
    "    It covers, mean, median, standard deviation, skewness, and kurtosis.\n",
    "    '''\n",
    "    summary = {\n",
    "        \"section\": [],\n",
    "        \"mean\": [],\n",
    "        \"median\": [],\n",
    "        \"std\": [],\n",
    "        \"skew\": [],\n",
    "        \"kurtosis\": []\n",
    "    }\n",
    "\n",
    "    for col in columns:\n",
    "        summary[\"section\"].append(col)\n",
    "        summary[\"mean\"].append(data[col].mean())\n",
    "        summary[\"median\"].append(data[col].median())\n",
    "        summary[\"std\"].append(data[col].std())\n",
    "        summary[\"skew\"].append(data[col].skew())\n",
    "        summary[\"kurtosis\"].append(data[col].kurtosis())\n",
    "\n",
    "    return pd.DataFrame(summary)\n",
    "    \n",
    "cols = ['ratings', 'votes', 'cost_for_two']\n",
    "\n",
    "summary_data = summarize_data(df, cols)\n",
    "summary_data"
   ]
  },
  {
   "cell_type": "code",
   "execution_count": 227,
   "id": "bfd98a89-9f82-497f-8ca1-c0d6bf001e0c",
   "metadata": {},
   "outputs": [
    {
     "data": {
      "text/plain": [
       "type\n",
       "Desserts              2714\n",
       "Cafes                 1511\n",
       "Drinks & nightlife    1045\n",
       "Buffet                 847\n",
       "Pubs and bars          632\n",
       "Dine-out               306\n",
       "Delivery               277\n",
       "Name: count, dtype: int64"
      ]
     },
     "execution_count": 227,
     "metadata": {},
     "output_type": "execute_result"
    }
   ],
   "source": [
    "df['type'].value_counts() # how many types of restaurant out there and the count"
   ]
  },
  {
   "cell_type": "code",
   "execution_count": 228,
   "id": "d6868077-c812-41b8-ba83-2774476aff56",
   "metadata": {},
   "outputs": [
    {
     "data": {
      "text/plain": [
       "location\n",
       "Church Street            387\n",
       "Koramangala 7th Block    382\n",
       "Brigade Road             377\n",
       "BTM                      371\n",
       "MG Road                  366\n",
       "Indiranagar              358\n",
       "Lavelle Road             349\n",
       "Koramangala 4th Block    332\n",
       "Koramangala 5th Block    326\n",
       "Koramangala 6th Block    317\n",
       "Residency Road           300\n",
       "Whitefield               253\n",
       "Old Airport Road         248\n",
       "Jayanagar                242\n",
       "JP Nagar                 229\n",
       "HSR                      217\n",
       "Malleshwaram             206\n",
       "Rajajinagar              202\n",
       "Electronic City          202\n",
       "Marathahalli             192\n",
       "Basavanagudi             171\n",
       "Sarjapur Road            168\n",
       "Bannerghatta Road        163\n",
       "Frazer Town              162\n",
       "Bellandur                156\n",
       "Kalyan Nagar             148\n",
       "Kammanahalli             139\n",
       "Brookefield              137\n",
       "New BEL Road             124\n",
       "Banashankari             108\n",
       "Name: count, dtype: int64"
      ]
     },
     "execution_count": 228,
     "metadata": {},
     "output_type": "execute_result"
    }
   ],
   "source": [
    "df['location'].value_counts() #so many restaurants in each city ◉_◉"
   ]
  },
  {
   "cell_type": "code",
   "execution_count": 229,
   "id": "57a4002c-d193-4881-a88e-5d13e163923a",
   "metadata": {
    "scrolled": true
   },
   "outputs": [
    {
     "data": {
      "text/plain": [
       "online_order\n",
       "False    4041\n",
       "True     3291\n",
       "Name: count, dtype: int64"
      ]
     },
     "execution_count": 229,
     "metadata": {},
     "output_type": "execute_result"
    }
   ],
   "source": [
    "df['online_order'].value_counts()"
   ]
  },
  {
   "cell_type": "code",
   "execution_count": 230,
   "id": "c0ecdda1-2bd3-4dc9-abbd-9c0996efd6d7",
   "metadata": {},
   "outputs": [
    {
     "data": {
      "text/plain": [
       "book_table\n",
       "False    5299\n",
       "True     2033\n",
       "Name: count, dtype: int64"
      ]
     },
     "execution_count": 230,
     "metadata": {},
     "output_type": "execute_result"
    }
   ],
   "source": [
    "df['book_table'].value_counts()"
   ]
  },
  {
   "cell_type": "markdown",
   "id": "d139fd25-66ef-4a75-8d94-dba8cfe0ebc7",
   "metadata": {},
   "source": [
    "---"
   ]
  },
  {
   "cell_type": "markdown",
   "id": "c249d4ef-f1ef-4ae6-9f88-635b27e1c70c",
   "metadata": {},
   "source": [
    "### Analyze the relationship between a restaurant's availability features and its votes to gauge specific influences on customer preferences."
   ]
  },
  {
   "cell_type": "code",
   "execution_count": 231,
   "id": "3ddeb28c-654f-4fc3-aef4-a8cfd39a7e6c",
   "metadata": {},
   "outputs": [
    {
     "data": {
      "text/html": [
       "<div>\n",
       "<style scoped>\n",
       "    .dataframe tbody tr th:only-of-type {\n",
       "        vertical-align: middle;\n",
       "    }\n",
       "\n",
       "    .dataframe tbody tr th {\n",
       "        vertical-align: top;\n",
       "    }\n",
       "\n",
       "    .dataframe thead th {\n",
       "        text-align: right;\n",
       "    }\n",
       "</style>\n",
       "<table border=\"1\" class=\"dataframe\">\n",
       "  <thead>\n",
       "    <tr style=\"text-align: right;\">\n",
       "      <th></th>\n",
       "      <th>book_table_True</th>\n",
       "      <th>book_table_False</th>\n",
       "      <th>online_order_True</th>\n",
       "      <th>online_order_False</th>\n",
       "    </tr>\n",
       "  </thead>\n",
       "  <tbody>\n",
       "    <tr>\n",
       "      <th>Buffet</th>\n",
       "      <td>547</td>\n",
       "      <td>300</td>\n",
       "      <td>347</td>\n",
       "      <td>500</td>\n",
       "    </tr>\n",
       "    <tr>\n",
       "      <th>Cafes</th>\n",
       "      <td>273</td>\n",
       "      <td>1238</td>\n",
       "      <td>848</td>\n",
       "      <td>663</td>\n",
       "    </tr>\n",
       "    <tr>\n",
       "      <th>Delivery</th>\n",
       "      <td>7</td>\n",
       "      <td>270</td>\n",
       "      <td>193</td>\n",
       "      <td>84</td>\n",
       "    </tr>\n",
       "    <tr>\n",
       "      <th>Desserts</th>\n",
       "      <td>137</td>\n",
       "      <td>2577</td>\n",
       "      <td>1458</td>\n",
       "      <td>1256</td>\n",
       "    </tr>\n",
       "    <tr>\n",
       "      <th>Dine-out</th>\n",
       "      <td>33</td>\n",
       "      <td>273</td>\n",
       "      <td>27</td>\n",
       "      <td>279</td>\n",
       "    </tr>\n",
       "    <tr>\n",
       "      <th>Drinks &amp; nightlife</th>\n",
       "      <td>646</td>\n",
       "      <td>399</td>\n",
       "      <td>233</td>\n",
       "      <td>812</td>\n",
       "    </tr>\n",
       "    <tr>\n",
       "      <th>Pubs and bars</th>\n",
       "      <td>390</td>\n",
       "      <td>242</td>\n",
       "      <td>185</td>\n",
       "      <td>447</td>\n",
       "    </tr>\n",
       "  </tbody>\n",
       "</table>\n",
       "</div>"
      ],
      "text/plain": [
       "                    book_table_True  book_table_False  online_order_True  \\\n",
       "Buffet                          547               300                347   \n",
       "Cafes                           273              1238                848   \n",
       "Delivery                          7               270                193   \n",
       "Desserts                        137              2577               1458   \n",
       "Dine-out                         33               273                 27   \n",
       "Drinks & nightlife              646               399                233   \n",
       "Pubs and bars                   390               242                185   \n",
       "\n",
       "                    online_order_False  \n",
       "Buffet                             500  \n",
       "Cafes                              663  \n",
       "Delivery                            84  \n",
       "Desserts                          1256  \n",
       "Dine-out                           279  \n",
       "Drinks & nightlife                 812  \n",
       "Pubs and bars                      447  "
      ]
     },
     "execution_count": 231,
     "metadata": {},
     "output_type": "execute_result"
    }
   ],
   "source": [
    "def aggregate_avail(df, column):\n",
    "    \"\"\"\n",
    "    This function aggregates data to create a dataframe that shows restaurant types with respective counts for \n",
    "    'book_table' (True/False) and 'online_order' (True/False).\n",
    "    The parameter needed is the dataframe and a column.\n",
    "    \"\"\"\n",
    "\n",
    "    unique_types = df[column].unique()\n",
    "    \n",
    "    data = {}\n",
    "    for uni in unique_types:\n",
    "        data[uni] = {\n",
    "            'book_table_True': df[(df[column] == uni) & (df['book_table'] == True)][column].count(), # condition and count\n",
    "            'book_table_False': df[(df[column] == uni) & (df['book_table'] == False)][column].count(),\n",
    "            'online_order_True': df[(df[column] == uni) & (df['online_order'] == True)][column].count(),\n",
    "            'online_order_False': df[(df[column] == uni) & (df['online_order'] == False)][column].count()\n",
    "        }\n",
    "        \n",
    "    result_df = pd.DataFrame(data).T\n",
    "    return result_df\n",
    "\n",
    "avail_type = aggregate_avail(df, 'type')\n",
    "avail_type"
   ]
  },
  {
   "cell_type": "code",
   "execution_count": 232,
   "id": "16cba4fe-ebf5-4313-98b3-05abee6a722b",
   "metadata": {
    "scrolled": true
   },
   "outputs": [
    {
     "data": {
      "text/html": [
       "<div>\n",
       "<style scoped>\n",
       "    .dataframe tbody tr th:only-of-type {\n",
       "        vertical-align: middle;\n",
       "    }\n",
       "\n",
       "    .dataframe tbody tr th {\n",
       "        vertical-align: top;\n",
       "    }\n",
       "\n",
       "    .dataframe thead th {\n",
       "        text-align: right;\n",
       "    }\n",
       "</style>\n",
       "<table border=\"1\" class=\"dataframe\">\n",
       "  <thead>\n",
       "    <tr style=\"text-align: right;\">\n",
       "      <th></th>\n",
       "      <th>book_table_True</th>\n",
       "      <th>book_table_False</th>\n",
       "      <th>online_order_True</th>\n",
       "      <th>online_order_False</th>\n",
       "    </tr>\n",
       "  </thead>\n",
       "  <tbody>\n",
       "    <tr>\n",
       "      <th>Banashankari</th>\n",
       "      <td>5</td>\n",
       "      <td>103</td>\n",
       "      <td>51</td>\n",
       "      <td>57</td>\n",
       "    </tr>\n",
       "    <tr>\n",
       "      <th>Bannerghatta Road</th>\n",
       "      <td>26</td>\n",
       "      <td>137</td>\n",
       "      <td>86</td>\n",
       "      <td>77</td>\n",
       "    </tr>\n",
       "    <tr>\n",
       "      <th>Basavanagudi</th>\n",
       "      <td>23</td>\n",
       "      <td>148</td>\n",
       "      <td>86</td>\n",
       "      <td>85</td>\n",
       "    </tr>\n",
       "    <tr>\n",
       "      <th>Bellandur</th>\n",
       "      <td>49</td>\n",
       "      <td>107</td>\n",
       "      <td>88</td>\n",
       "      <td>68</td>\n",
       "    </tr>\n",
       "    <tr>\n",
       "      <th>Brigade Road</th>\n",
       "      <td>126</td>\n",
       "      <td>251</td>\n",
       "      <td>136</td>\n",
       "      <td>241</td>\n",
       "    </tr>\n",
       "    <tr>\n",
       "      <th>Brookefield</th>\n",
       "      <td>30</td>\n",
       "      <td>107</td>\n",
       "      <td>64</td>\n",
       "      <td>73</td>\n",
       "    </tr>\n",
       "    <tr>\n",
       "      <th>BTM</th>\n",
       "      <td>112</td>\n",
       "      <td>259</td>\n",
       "      <td>191</td>\n",
       "      <td>180</td>\n",
       "    </tr>\n",
       "    <tr>\n",
       "      <th>Church Street</th>\n",
       "      <td>140</td>\n",
       "      <td>247</td>\n",
       "      <td>133</td>\n",
       "      <td>254</td>\n",
       "    </tr>\n",
       "    <tr>\n",
       "      <th>Electronic City</th>\n",
       "      <td>38</td>\n",
       "      <td>164</td>\n",
       "      <td>81</td>\n",
       "      <td>121</td>\n",
       "    </tr>\n",
       "    <tr>\n",
       "      <th>Frazer Town</th>\n",
       "      <td>28</td>\n",
       "      <td>134</td>\n",
       "      <td>67</td>\n",
       "      <td>95</td>\n",
       "    </tr>\n",
       "    <tr>\n",
       "      <th>HSR</th>\n",
       "      <td>51</td>\n",
       "      <td>166</td>\n",
       "      <td>119</td>\n",
       "      <td>98</td>\n",
       "    </tr>\n",
       "    <tr>\n",
       "      <th>Indiranagar</th>\n",
       "      <td>119</td>\n",
       "      <td>239</td>\n",
       "      <td>145</td>\n",
       "      <td>213</td>\n",
       "    </tr>\n",
       "    <tr>\n",
       "      <th>Jayanagar</th>\n",
       "      <td>53</td>\n",
       "      <td>189</td>\n",
       "      <td>127</td>\n",
       "      <td>115</td>\n",
       "    </tr>\n",
       "    <tr>\n",
       "      <th>JP Nagar</th>\n",
       "      <td>46</td>\n",
       "      <td>183</td>\n",
       "      <td>120</td>\n",
       "      <td>109</td>\n",
       "    </tr>\n",
       "    <tr>\n",
       "      <th>Kalyan Nagar</th>\n",
       "      <td>28</td>\n",
       "      <td>120</td>\n",
       "      <td>83</td>\n",
       "      <td>65</td>\n",
       "    </tr>\n",
       "    <tr>\n",
       "      <th>Kammanahalli</th>\n",
       "      <td>19</td>\n",
       "      <td>120</td>\n",
       "      <td>71</td>\n",
       "      <td>68</td>\n",
       "    </tr>\n",
       "    <tr>\n",
       "      <th>Koramangala 4th Block</th>\n",
       "      <td>100</td>\n",
       "      <td>232</td>\n",
       "      <td>175</td>\n",
       "      <td>157</td>\n",
       "    </tr>\n",
       "    <tr>\n",
       "      <th>Koramangala 5th Block</th>\n",
       "      <td>124</td>\n",
       "      <td>202</td>\n",
       "      <td>159</td>\n",
       "      <td>167</td>\n",
       "    </tr>\n",
       "    <tr>\n",
       "      <th>Koramangala 6th Block</th>\n",
       "      <td>95</td>\n",
       "      <td>222</td>\n",
       "      <td>169</td>\n",
       "      <td>148</td>\n",
       "    </tr>\n",
       "    <tr>\n",
       "      <th>Koramangala 7th Block</th>\n",
       "      <td>138</td>\n",
       "      <td>244</td>\n",
       "      <td>183</td>\n",
       "      <td>199</td>\n",
       "    </tr>\n",
       "    <tr>\n",
       "      <th>Lavelle Road</th>\n",
       "      <td>106</td>\n",
       "      <td>243</td>\n",
       "      <td>121</td>\n",
       "      <td>228</td>\n",
       "    </tr>\n",
       "    <tr>\n",
       "      <th>Malleshwaram</th>\n",
       "      <td>46</td>\n",
       "      <td>160</td>\n",
       "      <td>84</td>\n",
       "      <td>122</td>\n",
       "    </tr>\n",
       "    <tr>\n",
       "      <th>Marathahalli</th>\n",
       "      <td>46</td>\n",
       "      <td>146</td>\n",
       "      <td>79</td>\n",
       "      <td>113</td>\n",
       "    </tr>\n",
       "    <tr>\n",
       "      <th>MG Road</th>\n",
       "      <td>134</td>\n",
       "      <td>232</td>\n",
       "      <td>122</td>\n",
       "      <td>244</td>\n",
       "    </tr>\n",
       "    <tr>\n",
       "      <th>New BEL Road</th>\n",
       "      <td>18</td>\n",
       "      <td>106</td>\n",
       "      <td>73</td>\n",
       "      <td>51</td>\n",
       "    </tr>\n",
       "    <tr>\n",
       "      <th>Old Airport Road</th>\n",
       "      <td>87</td>\n",
       "      <td>161</td>\n",
       "      <td>103</td>\n",
       "      <td>145</td>\n",
       "    </tr>\n",
       "    <tr>\n",
       "      <th>Rajajinagar</th>\n",
       "      <td>35</td>\n",
       "      <td>167</td>\n",
       "      <td>78</td>\n",
       "      <td>124</td>\n",
       "    </tr>\n",
       "    <tr>\n",
       "      <th>Residency Road</th>\n",
       "      <td>96</td>\n",
       "      <td>204</td>\n",
       "      <td>99</td>\n",
       "      <td>201</td>\n",
       "    </tr>\n",
       "    <tr>\n",
       "      <th>Sarjapur Road</th>\n",
       "      <td>47</td>\n",
       "      <td>121</td>\n",
       "      <td>94</td>\n",
       "      <td>74</td>\n",
       "    </tr>\n",
       "    <tr>\n",
       "      <th>Whitefield</th>\n",
       "      <td>68</td>\n",
       "      <td>185</td>\n",
       "      <td>104</td>\n",
       "      <td>149</td>\n",
       "    </tr>\n",
       "  </tbody>\n",
       "</table>\n",
       "</div>"
      ],
      "text/plain": [
       "                       book_table_True  book_table_False  online_order_True  \\\n",
       "Banashankari                         5               103                 51   \n",
       "Bannerghatta Road                   26               137                 86   \n",
       "Basavanagudi                        23               148                 86   \n",
       "Bellandur                           49               107                 88   \n",
       "Brigade Road                       126               251                136   \n",
       "Brookefield                         30               107                 64   \n",
       "BTM                                112               259                191   \n",
       "Church Street                      140               247                133   \n",
       "Electronic City                     38               164                 81   \n",
       "Frazer Town                         28               134                 67   \n",
       "HSR                                 51               166                119   \n",
       "Indiranagar                        119               239                145   \n",
       "Jayanagar                           53               189                127   \n",
       "JP Nagar                            46               183                120   \n",
       "Kalyan Nagar                        28               120                 83   \n",
       "Kammanahalli                        19               120                 71   \n",
       "Koramangala 4th Block              100               232                175   \n",
       "Koramangala 5th Block              124               202                159   \n",
       "Koramangala 6th Block               95               222                169   \n",
       "Koramangala 7th Block              138               244                183   \n",
       "Lavelle Road                       106               243                121   \n",
       "Malleshwaram                        46               160                 84   \n",
       "Marathahalli                        46               146                 79   \n",
       "MG Road                            134               232                122   \n",
       "New BEL Road                        18               106                 73   \n",
       "Old Airport Road                    87               161                103   \n",
       "Rajajinagar                         35               167                 78   \n",
       "Residency Road                      96               204                 99   \n",
       "Sarjapur Road                       47               121                 94   \n",
       "Whitefield                          68               185                104   \n",
       "\n",
       "                       online_order_False  \n",
       "Banashankari                           57  \n",
       "Bannerghatta Road                      77  \n",
       "Basavanagudi                           85  \n",
       "Bellandur                              68  \n",
       "Brigade Road                          241  \n",
       "Brookefield                            73  \n",
       "BTM                                   180  \n",
       "Church Street                         254  \n",
       "Electronic City                       121  \n",
       "Frazer Town                            95  \n",
       "HSR                                    98  \n",
       "Indiranagar                           213  \n",
       "Jayanagar                             115  \n",
       "JP Nagar                              109  \n",
       "Kalyan Nagar                           65  \n",
       "Kammanahalli                           68  \n",
       "Koramangala 4th Block                 157  \n",
       "Koramangala 5th Block                 167  \n",
       "Koramangala 6th Block                 148  \n",
       "Koramangala 7th Block                 199  \n",
       "Lavelle Road                          228  \n",
       "Malleshwaram                          122  \n",
       "Marathahalli                          113  \n",
       "MG Road                               244  \n",
       "New BEL Road                           51  \n",
       "Old Airport Road                      145  \n",
       "Rajajinagar                           124  \n",
       "Residency Road                        201  \n",
       "Sarjapur Road                          74  \n",
       "Whitefield                            149  "
      ]
     },
     "execution_count": 232,
     "metadata": {},
     "output_type": "execute_result"
    }
   ],
   "source": [
    "avail_locate = aggregate_avail(df, 'location') # calling the function above but using location as argument\n",
    "avail_locate"
   ]
  },
  {
   "cell_type": "markdown",
   "id": "832d046c-d9db-4826-b18e-6bc800419e44",
   "metadata": {},
   "source": [
    "### Votes and Online Ordering"
   ]
  },
  {
   "cell_type": "code",
   "execution_count": 233,
   "id": "2e34286e-e9e6-4d84-a1c3-a6fd53a4bd56",
   "metadata": {},
   "outputs": [
    {
     "name": "stdout",
     "output_type": "stream",
     "text": [
      "Statistic: 7787844.5\n",
      "p-value = 1.4772016516230755e-36\n"
     ]
    }
   ],
   "source": [
    "from scipy.stats import mannwhitneyu\n",
    "\n",
    "# Votes for online order\n",
    "votes_online = df[df['online_order'] == True]['votes']\n",
    "\n",
    "# Votes for no online order\n",
    "votes_no_online = df[df['online_order'] == False]['votes']\n",
    "\n",
    "# Mann-Whitney U test\n",
    "stat, p = mannwhitneyu(votes_online, votes_no_online)\n",
    "print(f\"Statistic: {stat}\")\n",
    "print(f\"p-value = {p}\")"
   ]
  },
  {
   "cell_type": "markdown",
   "id": "8abf792e-236c-4848-a89f-76121e289ad2",
   "metadata": {},
   "source": [
    "```\n",
    "this p-value is much smaller, indicating strong evidence against the null hypothesis. The null hypothesis for the Mann-Whitney U test is that the distributions of the two groups are the same.\n",
    "Interpretation:\n",
    "\n",
    "There is a statistically significant difference in the number of votes between restaurants that offer online ordering and those that don't. Given the U statistic alone, we can't determine which group has more votes on average, but the significant p-value confirms that a difference exists. Given the context and the nature of online ordering (potentially reaching a larger audience), one might speculate that restaurants offering online ordering might receive more votes, but further analysis (like comparing medians or means) would be needed to confirm the direction of the difference."
   ]
  },
  {
   "cell_type": "code",
   "execution_count": 234,
   "id": "6324fed1-e76b-43d7-853d-b5bc91984246",
   "metadata": {},
   "outputs": [
    {
     "name": "stdout",
     "output_type": "stream",
     "text": [
      "Median votes for restaurants with online ordering: 148.0\n",
      "Median votes for restaurants without online ordering: 74.0\n"
     ]
    }
   ],
   "source": [
    "median_votes_online = df[df['online_order'] == True]['votes'].median() # median of the votes for restaurant with online order\n",
    "median_votes_no_online = df[df['online_order'] == False]['votes'].median() # median of the votes for restaurant without online order\n",
    "\n",
    "print(f\"Median votes for restaurants with online ordering: {median_votes_online}\")\n",
    "print(f\"Median votes for restaurants without online ordering: {median_votes_no_online}\")"
   ]
  },
  {
   "cell_type": "code",
   "execution_count": 235,
   "id": "7781fccc-e68f-4be6-b612-05dd739c89ea",
   "metadata": {},
   "outputs": [
    {
     "name": "stdout",
     "output_type": "stream",
     "text": [
      "Mean votes for restaurants with online ordering: 607.35\n",
      "Mean votes for restaurants without online ordering: 555.72\n"
     ]
    }
   ],
   "source": [
    "mean_votes_online = df[df['online_order'] == True]['votes'].mean() # mean of the votes for restaurant with online order\n",
    "mean_votes_no_online = df[df['online_order'] == False]['votes'].mean() # mean of the votes for restaurant without online order\n",
    "\n",
    "print(f\"Mean votes for restaurants with online ordering: {mean_votes_online:.2f}\")\n",
    "print(f\"Mean votes for restaurants without online ordering: {mean_votes_no_online:.2f}\")"
   ]
  },
  {
   "cell_type": "markdown",
   "id": "c5fa2a8b-f2d7-4e9c-9469-1b9222bfa5cb",
   "metadata": {},
   "source": [
    "### Visualization"
   ]
  },
  {
   "cell_type": "code",
   "execution_count": 236,
   "id": "be766171-239a-4911-a7fb-f714cd15c25d",
   "metadata": {},
   "outputs": [
    {
     "data": {
      "image/png": "[encoded data removed]",
      "text/plain": [
       "<Figure size 640x480 with 1 Axes>"
      ]
     },
     "metadata": {},
     "output_type": "display_data"
    }
   ],
   "source": [
    "# Data ༼ つ ಥ_ಥ ༽つ\n",
    "labels = ['With Online Order', 'Without Online Order']\n",
    "median_values = [median_votes_online, median_votes_no_online]\n",
    "mean_values = [mean_votes_online, mean_votes_no_online]\n",
    "\n",
    "x = np.arange(len(labels))  # the label locations\n",
    "width = 0.35 \n",
    "\n",
    "fig, ax = plt.subplots()\n",
    "\n",
    "# Bars\n",
    "bars1 = ax.bar(x - width/2, median_values, width, label='Median', color='blue')\n",
    "bars2 = ax.bar(x + width/2, mean_values, width, label='Mean', color='green')\n",
    "\n",
    "# labelling ヾ(⌐■_■)ノ♪\n",
    "ax.set_ylabel('Votes')\n",
    "ax.set_title('Votes by Online Order Availability')\n",
    "ax.set_xticks(x)\n",
    "ax.set_xticklabels(labels)\n",
    "ax.legend()\n",
    "\n",
    "fig.tight_layout()\n",
    "plt.show()\n"
   ]
  },
  {
   "cell_type": "markdown",
   "id": "61e90a46-7da0-42c4-a1f9-0b5f5df187c5",
   "metadata": {},
   "source": [
    "```\n",
    "Median Votes: The median, which is less affected by extreme values (outliers), indicates that restaurants offering online ordering tend to receive double the votes compared to those that don't offer online ordering.\n",
    "\n",
    "Mean Votes: The mean values also indicate a difference. Restaurants with online ordering receive, on average, about 51.63 more votes than those without online ordering.\n",
    "\n",
    "From this analysis, it appears that having the feature of online ordering correlates with more customer using the service, which suggests greater visibility or popularity. The larger difference in medians compared to means might suggest the presence of a few very popular restaurants with online ordering that have a large number of votes, skewing the average upward. This is why the median offers a different perspective and is often preferred for skewed data."
   ]
  },
  {
   "cell_type": "markdown",
   "id": "00c329b1-d608-46e0-bcf8-a0cf8a8467a9",
   "metadata": {},
   "source": [
    "### Votes and Book Table"
   ]
  },
  {
   "cell_type": "code",
   "execution_count": 237,
   "id": "8a1d94de-be2a-4214-9928-709c93d8db7a",
   "metadata": {},
   "outputs": [
    {
     "name": "stdout",
     "output_type": "stream",
     "text": [
      "Statistic: 9333540.5\n",
      "p-value = 0.0\n"
     ]
    }
   ],
   "source": [
    "# Votes for book table\n",
    "votes_book = df[df['book_table'] == True]['votes']\n",
    "\n",
    "# Votes for no book table\n",
    "votes_no_book = df[df['book_table'] == False]['votes']\n",
    "\n",
    "# Mann-Whitney U test\n",
    "stat, p = mannwhitneyu(votes_book, votes_no_book)\n",
    "print(f\"Statistic: {stat}\")\n",
    "print(f\"p-value = {p}\")"
   ]
  },
  {
   "cell_type": "markdown",
   "id": "97b7b30c-2f82-488c-9a45-22b46439011b",
   "metadata": {},
   "source": [
    "```\n",
    "This p-value indicates that the correlation is highly statistically significant. The observed difference between the number of votes for restaurants that offer table booking and those that don't is very unlikely to be due to random chance.\n",
    "Interpretation:\n",
    "There's a statistically significant difference in the number of votes between restaurants that offer table booking and those that don't. To determine which group (restaurants with table booking vs. those without) tends to have more votes on average, you'll need to compare the medians or means of votes for each group, similar to the previous analysis with online ordering.\n",
    "\n",
    "You can follow the same steps as before to calculate and compare the medians and means. This will give you a clearer picture of the direction of the difference and its real-world implications."
   ]
  },
  {
   "cell_type": "code",
   "execution_count": 238,
   "id": "141129c6-7481-4dd1-8fbf-bd003e7bb6b5",
   "metadata": {},
   "outputs": [
    {
     "name": "stdout",
     "output_type": "stream",
     "text": [
      "Median votes for restaurants with table booking: 715.00\n",
      "Median votes for restaurants without table booking: 51.00\n"
     ]
    }
   ],
   "source": [
    "median_votes_book = df[df['book_table'] == True]['votes'].median() # median for votes that has booking\n",
    "median_votes_no_book = df[df['book_table'] == False]['votes'].median() # median for votes that doesnt have booking\n",
    "\n",
    "print(f\"Median votes for restaurants with table booking: {median_votes_book:.2f}\")\n",
    "print(f\"Median votes for restaurants without table booking: {median_votes_no_book:.2f}\")"
   ]
  },
  {
   "cell_type": "code",
   "execution_count": 239,
   "id": "d0ab521a-2026-44ae-abcc-9d401b0f12b7",
   "metadata": {},
   "outputs": [
    {
     "name": "stdout",
     "output_type": "stream",
     "text": [
      "Mean votes for restaurants with table booking: 1373.86\n",
      "Mean votes for restaurants without table booking: 273.90\n"
     ]
    }
   ],
   "source": [
    "mean_votes_book = df[df['book_table'] == True]['votes'].mean() # mean for votes that does have booking\n",
    "mean_votes_no_book = df[df['book_table'] == False]['votes'].mean() # mean for votes that doesnt have booking\n",
    "\n",
    "print(f\"Mean votes for restaurants with table booking: {mean_votes_book:.2f}\")\n",
    "print(f\"Mean votes for restaurants without table booking: {mean_votes_no_book:.2f}\")"
   ]
  },
  {
   "cell_type": "markdown",
   "id": "9eac3ccb-c018-4a65-8906-867e31e36db6",
   "metadata": {},
   "source": [
    "### Visualization"
   ]
  },
  {
   "cell_type": "code",
   "execution_count": 240,
   "id": "e546dd34-26e5-4e6b-8d9c-eb95496cd63d",
   "metadata": {},
   "outputs": [
    {
     "data": {
      "image/png": "[encoded data removed]",
      "text/plain": [
       "<Figure size 640x480 with 1 Axes>"
      ]
     },
     "metadata": {},
     "output_type": "display_data"
    }
   ],
   "source": [
    "# Data again\n",
    "labels = ['With Table Booking', 'Without Table Booking']\n",
    "median_values = [median_votes_book, median_votes_no_book]\n",
    "mean_values = [mean_votes_book, mean_votes_no_book]\n",
    "\n",
    "x = np.arange(len(labels))\n",
    "width = 0.35 \n",
    "\n",
    "fig, ax = plt.subplots()\n",
    "\n",
    "# Barssss\n",
    "rects1 = ax.bar(x - width/2, median_values, width, label='Median', color='blue')\n",
    "rects2 = ax.bar(x + width/2, mean_values, width, label='Mean', color='green')\n",
    "\n",
    "# labellingg\n",
    "ax.set_ylabel('Votes')\n",
    "ax.set_title('Votes by Table Booking Availability')\n",
    "ax.set_xticks(x)\n",
    "ax.set_xticklabels(labels)\n",
    "ax.legend()\n",
    "\n",
    "fig.tight_layout()\n",
    "\n",
    "plt.show()"
   ]
  },
  {
   "cell_type": "markdown",
   "id": "ddffb4b4-1c2b-42b0-b57c-ab322df5ac39",
   "metadata": {},
   "source": [
    "```\n",
    "Median Votes: The median value for restaurants with table booking is significantly higher, meanig that the typical restaurant with this feature receives a greater number of votes than those without table booking (more customer use the service). Specifically, restaurants with table booking tend to receive 13 times more votes (based on the median) compared to those without this feature.\n",
    "\n",
    "Mean Votes: The mean values further emphasize the difference. Restaurants with table booking, on average, receive about 1099.96 more votes than those without table booking. The difference indicates the popularity or higher visibility of restaurants that offer this feature.\n",
    "\n",
    "Overall, the ability to book a table appears to be a strong indicator of a restaurant's popularity or visibility on the platform. Restaurants offering this feature are significantly more favored by users, as reflected by the higher number of votes they receive. The wide gap between the medians and means of the two groups emphasizes the significant advantage that table booking provides in terms of attracting customer attention and engagement."
   ]
  },
  {
   "cell_type": "markdown",
   "id": "43814591-9d9d-4c5e-874d-3686abd6ed1b",
   "metadata": {},
   "source": [
    "```\n",
    "in summary:\n",
    "Restaurants that offer additional features, such as online ordering and table booking, tend to receive more customer, as indicated by the number of votes they get. For online ordering, the median value suggests double the votes for restaurants offering the service compared to those that don't, while the mean indicates an average difference of 51.63 votes. Similarly, for table booking, restaurants with this feature receive 13 times more votes based on the median and a whopping 1099.96 votes on average more than those without. The presence of such significant differences, especially in median values which are less influenced by outliers, means the immense popularity and visibility benefits from these features. Overall, both online ordering and table booking capabilities correlate with increased customer attention and engagement."
   ]
  },
  {
   "cell_type": "markdown",
   "id": "2e59dc05-bd17-44f8-9419-dcefb6f87f15",
   "metadata": {},
   "source": [
    "---"
   ]
  },
  {
   "cell_type": "markdown",
   "id": "48f9f1f9-08bd-4513-b6a4-bd0087a300da",
   "metadata": {},
   "source": [
    "## Each Location has their own culture and market tied to determine their restaurant trend"
   ]
  },
  {
   "cell_type": "code",
   "execution_count": 241,
   "id": "339cad35-e9eb-4f2b-920e-ba9c24a2807e",
   "metadata": {
    "scrolled": true
   },
   "outputs": [
    {
     "data": {
      "text/html": [
       "<div>\n",
       "<style scoped>\n",
       "    .dataframe tbody tr th:only-of-type {\n",
       "        vertical-align: middle;\n",
       "    }\n",
       "\n",
       "    .dataframe tbody tr th {\n",
       "        vertical-align: top;\n",
       "    }\n",
       "\n",
       "    .dataframe thead th {\n",
       "        text-align: right;\n",
       "    }\n",
       "</style>\n",
       "<table border=\"1\" class=\"dataframe\">\n",
       "  <thead>\n",
       "    <tr style=\"text-align: right;\">\n",
       "      <th>type</th>\n",
       "      <th>Buffet</th>\n",
       "      <th>Cafes</th>\n",
       "      <th>Delivery</th>\n",
       "      <th>Desserts</th>\n",
       "      <th>Dine-out</th>\n",
       "      <th>Drinks &amp; nightlife</th>\n",
       "      <th>Pubs and bars</th>\n",
       "    </tr>\n",
       "  </thead>\n",
       "  <tbody>\n",
       "    <tr>\n",
       "      <th>Banashankari</th>\n",
       "      <td>7.0</td>\n",
       "      <td>24.0</td>\n",
       "      <td>12.0</td>\n",
       "      <td>48.0</td>\n",
       "      <td>10.0</td>\n",
       "      <td>7.0</td>\n",
       "      <td>0.0</td>\n",
       "    </tr>\n",
       "    <tr>\n",
       "      <th>Bannerghatta Road</th>\n",
       "      <td>16.0</td>\n",
       "      <td>34.0</td>\n",
       "      <td>13.0</td>\n",
       "      <td>78.0</td>\n",
       "      <td>7.0</td>\n",
       "      <td>15.0</td>\n",
       "      <td>0.0</td>\n",
       "    </tr>\n",
       "    <tr>\n",
       "      <th>Basavanagudi</th>\n",
       "      <td>14.0</td>\n",
       "      <td>43.0</td>\n",
       "      <td>1.0</td>\n",
       "      <td>86.0</td>\n",
       "      <td>15.0</td>\n",
       "      <td>12.0</td>\n",
       "      <td>0.0</td>\n",
       "    </tr>\n",
       "    <tr>\n",
       "      <th>Bellandur</th>\n",
       "      <td>29.0</td>\n",
       "      <td>23.0</td>\n",
       "      <td>2.0</td>\n",
       "      <td>65.0</td>\n",
       "      <td>0.0</td>\n",
       "      <td>19.0</td>\n",
       "      <td>18.0</td>\n",
       "    </tr>\n",
       "    <tr>\n",
       "      <th>Brigade Road</th>\n",
       "      <td>57.0</td>\n",
       "      <td>72.0</td>\n",
       "      <td>0.0</td>\n",
       "      <td>102.0</td>\n",
       "      <td>0.0</td>\n",
       "      <td>75.0</td>\n",
       "      <td>71.0</td>\n",
       "    </tr>\n",
       "    <tr>\n",
       "      <th>Brookefield</th>\n",
       "      <td>31.0</td>\n",
       "      <td>30.0</td>\n",
       "      <td>2.0</td>\n",
       "      <td>60.0</td>\n",
       "      <td>0.0</td>\n",
       "      <td>14.0</td>\n",
       "      <td>0.0</td>\n",
       "    </tr>\n",
       "    <tr>\n",
       "      <th>BTM</th>\n",
       "      <td>36.0</td>\n",
       "      <td>89.0</td>\n",
       "      <td>7.0</td>\n",
       "      <td>148.0</td>\n",
       "      <td>3.0</td>\n",
       "      <td>41.0</td>\n",
       "      <td>47.0</td>\n",
       "    </tr>\n",
       "    <tr>\n",
       "      <th>Church Street</th>\n",
       "      <td>60.0</td>\n",
       "      <td>75.0</td>\n",
       "      <td>0.0</td>\n",
       "      <td>106.0</td>\n",
       "      <td>0.0</td>\n",
       "      <td>76.0</td>\n",
       "      <td>70.0</td>\n",
       "    </tr>\n",
       "    <tr>\n",
       "      <th>Electronic City</th>\n",
       "      <td>20.0</td>\n",
       "      <td>18.0</td>\n",
       "      <td>33.0</td>\n",
       "      <td>46.0</td>\n",
       "      <td>46.0</td>\n",
       "      <td>20.0</td>\n",
       "      <td>19.0</td>\n",
       "    </tr>\n",
       "    <tr>\n",
       "      <th>Frazer Town</th>\n",
       "      <td>14.0</td>\n",
       "      <td>42.0</td>\n",
       "      <td>5.0</td>\n",
       "      <td>69.0</td>\n",
       "      <td>8.0</td>\n",
       "      <td>11.0</td>\n",
       "      <td>13.0</td>\n",
       "    </tr>\n",
       "    <tr>\n",
       "      <th>HSR</th>\n",
       "      <td>19.0</td>\n",
       "      <td>41.0</td>\n",
       "      <td>24.0</td>\n",
       "      <td>87.0</td>\n",
       "      <td>16.0</td>\n",
       "      <td>12.0</td>\n",
       "      <td>18.0</td>\n",
       "    </tr>\n",
       "    <tr>\n",
       "      <th>Indiranagar</th>\n",
       "      <td>37.0</td>\n",
       "      <td>72.0</td>\n",
       "      <td>2.0</td>\n",
       "      <td>126.0</td>\n",
       "      <td>15.0</td>\n",
       "      <td>54.0</td>\n",
       "      <td>52.0</td>\n",
       "    </tr>\n",
       "    <tr>\n",
       "      <th>Jayanagar</th>\n",
       "      <td>27.0</td>\n",
       "      <td>69.0</td>\n",
       "      <td>0.0</td>\n",
       "      <td>123.0</td>\n",
       "      <td>0.0</td>\n",
       "      <td>23.0</td>\n",
       "      <td>0.0</td>\n",
       "    </tr>\n",
       "    <tr>\n",
       "      <th>JP Nagar</th>\n",
       "      <td>23.0</td>\n",
       "      <td>55.0</td>\n",
       "      <td>13.0</td>\n",
       "      <td>109.0</td>\n",
       "      <td>10.0</td>\n",
       "      <td>19.0</td>\n",
       "      <td>0.0</td>\n",
       "    </tr>\n",
       "    <tr>\n",
       "      <th>Kalyan Nagar</th>\n",
       "      <td>11.0</td>\n",
       "      <td>42.0</td>\n",
       "      <td>15.0</td>\n",
       "      <td>63.0</td>\n",
       "      <td>2.0</td>\n",
       "      <td>15.0</td>\n",
       "      <td>0.0</td>\n",
       "    </tr>\n",
       "    <tr>\n",
       "      <th>Kammanahalli</th>\n",
       "      <td>0.0</td>\n",
       "      <td>44.0</td>\n",
       "      <td>6.0</td>\n",
       "      <td>68.0</td>\n",
       "      <td>5.0</td>\n",
       "      <td>16.0</td>\n",
       "      <td>0.0</td>\n",
       "    </tr>\n",
       "    <tr>\n",
       "      <th>Koramangala 4th Block</th>\n",
       "      <td>41.0</td>\n",
       "      <td>100.0</td>\n",
       "      <td>1.0</td>\n",
       "      <td>131.0</td>\n",
       "      <td>0.0</td>\n",
       "      <td>59.0</td>\n",
       "      <td>0.0</td>\n",
       "    </tr>\n",
       "    <tr>\n",
       "      <th>Koramangala 5th Block</th>\n",
       "      <td>34.0</td>\n",
       "      <td>44.0</td>\n",
       "      <td>0.0</td>\n",
       "      <td>135.0</td>\n",
       "      <td>0.0</td>\n",
       "      <td>55.0</td>\n",
       "      <td>58.0</td>\n",
       "    </tr>\n",
       "    <tr>\n",
       "      <th>Koramangala 6th Block</th>\n",
       "      <td>33.0</td>\n",
       "      <td>95.0</td>\n",
       "      <td>2.0</td>\n",
       "      <td>131.0</td>\n",
       "      <td>0.0</td>\n",
       "      <td>56.0</td>\n",
       "      <td>0.0</td>\n",
       "    </tr>\n",
       "    <tr>\n",
       "      <th>Koramangala 7th Block</th>\n",
       "      <td>35.0</td>\n",
       "      <td>95.0</td>\n",
       "      <td>0.0</td>\n",
       "      <td>135.0</td>\n",
       "      <td>1.0</td>\n",
       "      <td>57.0</td>\n",
       "      <td>59.0</td>\n",
       "    </tr>\n",
       "    <tr>\n",
       "      <th>Lavelle Road</th>\n",
       "      <td>65.0</td>\n",
       "      <td>72.0</td>\n",
       "      <td>8.0</td>\n",
       "      <td>104.0</td>\n",
       "      <td>21.0</td>\n",
       "      <td>79.0</td>\n",
       "      <td>0.0</td>\n",
       "    </tr>\n",
       "    <tr>\n",
       "      <th>Malleshwaram</th>\n",
       "      <td>22.0</td>\n",
       "      <td>27.0</td>\n",
       "      <td>23.0</td>\n",
       "      <td>72.0</td>\n",
       "      <td>19.0</td>\n",
       "      <td>23.0</td>\n",
       "      <td>20.0</td>\n",
       "    </tr>\n",
       "    <tr>\n",
       "      <th>Marathahalli</th>\n",
       "      <td>31.0</td>\n",
       "      <td>23.0</td>\n",
       "      <td>23.0</td>\n",
       "      <td>72.0</td>\n",
       "      <td>22.0</td>\n",
       "      <td>21.0</td>\n",
       "      <td>0.0</td>\n",
       "    </tr>\n",
       "    <tr>\n",
       "      <th>MG Road</th>\n",
       "      <td>54.0</td>\n",
       "      <td>68.0</td>\n",
       "      <td>0.0</td>\n",
       "      <td>106.0</td>\n",
       "      <td>0.0</td>\n",
       "      <td>71.0</td>\n",
       "      <td>67.0</td>\n",
       "    </tr>\n",
       "    <tr>\n",
       "      <th>New BEL Road</th>\n",
       "      <td>4.0</td>\n",
       "      <td>24.0</td>\n",
       "      <td>31.0</td>\n",
       "      <td>33.0</td>\n",
       "      <td>18.0</td>\n",
       "      <td>7.0</td>\n",
       "      <td>7.0</td>\n",
       "    </tr>\n",
       "    <tr>\n",
       "      <th>Old Airport Road</th>\n",
       "      <td>26.0</td>\n",
       "      <td>45.0</td>\n",
       "      <td>6.0</td>\n",
       "      <td>89.0</td>\n",
       "      <td>4.0</td>\n",
       "      <td>39.0</td>\n",
       "      <td>39.0</td>\n",
       "    </tr>\n",
       "    <tr>\n",
       "      <th>Rajajinagar</th>\n",
       "      <td>17.0</td>\n",
       "      <td>19.0</td>\n",
       "      <td>18.0</td>\n",
       "      <td>78.0</td>\n",
       "      <td>26.0</td>\n",
       "      <td>20.0</td>\n",
       "      <td>24.0</td>\n",
       "    </tr>\n",
       "    <tr>\n",
       "      <th>Residency Road</th>\n",
       "      <td>59.0</td>\n",
       "      <td>66.0</td>\n",
       "      <td>0.0</td>\n",
       "      <td>101.0</td>\n",
       "      <td>0.0</td>\n",
       "      <td>74.0</td>\n",
       "      <td>0.0</td>\n",
       "    </tr>\n",
       "    <tr>\n",
       "      <th>Sarjapur Road</th>\n",
       "      <td>25.0</td>\n",
       "      <td>25.0</td>\n",
       "      <td>6.0</td>\n",
       "      <td>68.0</td>\n",
       "      <td>6.0</td>\n",
       "      <td>20.0</td>\n",
       "      <td>18.0</td>\n",
       "    </tr>\n",
       "    <tr>\n",
       "      <th>Whitefield</th>\n",
       "      <td>0.0</td>\n",
       "      <td>35.0</td>\n",
       "      <td>24.0</td>\n",
       "      <td>75.0</td>\n",
       "      <td>52.0</td>\n",
       "      <td>35.0</td>\n",
       "      <td>32.0</td>\n",
       "    </tr>\n",
       "  </tbody>\n",
       "</table>\n",
       "</div>"
      ],
      "text/plain": [
       "type                   Buffet  Cafes  Delivery  Desserts  Dine-out  \\\n",
       "Banashankari              7.0   24.0      12.0      48.0      10.0   \n",
       "Bannerghatta Road        16.0   34.0      13.0      78.0       7.0   \n",
       "Basavanagudi             14.0   43.0       1.0      86.0      15.0   \n",
       "Bellandur                29.0   23.0       2.0      65.0       0.0   \n",
       "Brigade Road             57.0   72.0       0.0     102.0       0.0   \n",
       "Brookefield              31.0   30.0       2.0      60.0       0.0   \n",
       "BTM                      36.0   89.0       7.0     148.0       3.0   \n",
       "Church Street            60.0   75.0       0.0     106.0       0.0   \n",
       "Electronic City          20.0   18.0      33.0      46.0      46.0   \n",
       "Frazer Town              14.0   42.0       5.0      69.0       8.0   \n",
       "HSR                      19.0   41.0      24.0      87.0      16.0   \n",
       "Indiranagar              37.0   72.0       2.0     126.0      15.0   \n",
       "Jayanagar                27.0   69.0       0.0     123.0       0.0   \n",
       "JP Nagar                 23.0   55.0      13.0     109.0      10.0   \n",
       "Kalyan Nagar             11.0   42.0      15.0      63.0       2.0   \n",
       "Kammanahalli              0.0   44.0       6.0      68.0       5.0   \n",
       "Koramangala 4th Block    41.0  100.0       1.0     131.0       0.0   \n",
       "Koramangala 5th Block    34.0   44.0       0.0     135.0       0.0   \n",
       "Koramangala 6th Block    33.0   95.0       2.0     131.0       0.0   \n",
       "Koramangala 7th Block    35.0   95.0       0.0     135.0       1.0   \n",
       "Lavelle Road             65.0   72.0       8.0     104.0      21.0   \n",
       "Malleshwaram             22.0   27.0      23.0      72.0      19.0   \n",
       "Marathahalli             31.0   23.0      23.0      72.0      22.0   \n",
       "MG Road                  54.0   68.0       0.0     106.0       0.0   \n",
       "New BEL Road              4.0   24.0      31.0      33.0      18.0   \n",
       "Old Airport Road         26.0   45.0       6.0      89.0       4.0   \n",
       "Rajajinagar              17.0   19.0      18.0      78.0      26.0   \n",
       "Residency Road           59.0   66.0       0.0     101.0       0.0   \n",
       "Sarjapur Road            25.0   25.0       6.0      68.0       6.0   \n",
       "Whitefield                0.0   35.0      24.0      75.0      52.0   \n",
       "\n",
       "type                   Drinks & nightlife  Pubs and bars  \n",
       "Banashankari                          7.0            0.0  \n",
       "Bannerghatta Road                    15.0            0.0  \n",
       "Basavanagudi                         12.0            0.0  \n",
       "Bellandur                            19.0           18.0  \n",
       "Brigade Road                         75.0           71.0  \n",
       "Brookefield                          14.0            0.0  \n",
       "BTM                                  41.0           47.0  \n",
       "Church Street                        76.0           70.0  \n",
       "Electronic City                      20.0           19.0  \n",
       "Frazer Town                          11.0           13.0  \n",
       "HSR                                  12.0           18.0  \n",
       "Indiranagar                          54.0           52.0  \n",
       "Jayanagar                            23.0            0.0  \n",
       "JP Nagar                             19.0            0.0  \n",
       "Kalyan Nagar                         15.0            0.0  \n",
       "Kammanahalli                         16.0            0.0  \n",
       "Koramangala 4th Block                59.0            0.0  \n",
       "Koramangala 5th Block                55.0           58.0  \n",
       "Koramangala 6th Block                56.0            0.0  \n",
       "Koramangala 7th Block                57.0           59.0  \n",
       "Lavelle Road                         79.0            0.0  \n",
       "Malleshwaram                         23.0           20.0  \n",
       "Marathahalli                         21.0            0.0  \n",
       "MG Road                              71.0           67.0  \n",
       "New BEL Road                          7.0            7.0  \n",
       "Old Airport Road                     39.0           39.0  \n",
       "Rajajinagar                          20.0           24.0  \n",
       "Residency Road                       74.0            0.0  \n",
       "Sarjapur Road                        20.0           18.0  \n",
       "Whitefield                           35.0           32.0  "
      ]
     },
     "execution_count": 241,
     "metadata": {},
     "output_type": "execute_result"
    }
   ],
   "source": [
    "def top_type(df, column):\n",
    "    '''\n",
    "    Returns the value counts for each type within the given dataframe and column.\n",
    "    Parameter used is dataframe and the column\n",
    "    '''\n",
    "    return df[column].value_counts()\n",
    "\n",
    "all_location = df['location'].unique()\n",
    "\n",
    "data = {\n",
    "    locate: top_type(df[df['location'] == locate], 'type')\n",
    "    for locate in all_location\n",
    "}\n",
    "\n",
    "top_type_location = pd.DataFrame(data).T.fillna(0)  # Fill NaN with 0 if any\n",
    "top_type_location"
   ]
  },
  {
   "cell_type": "markdown",
   "id": "e5840e46-4e16-4567-ac85-6a221f3f46ba",
   "metadata": {},
   "source": [
    "```\n",
    "The descriptive statistics above can be interpreted that each location has different amount of restaurant types. This proves there might be a trend of restaurant type in each location. We can gain insight for competitions in each city when picking a restaurant."
   ]
  },
  {
   "cell_type": "markdown",
   "id": "c5155183-e1e8-491f-89f7-147fc6927542",
   "metadata": {},
   "source": [
    "### Visualization"
   ]
  },
  {
   "cell_type": "code",
   "execution_count": 242,
   "id": "116ec9b9-6708-41d0-9abf-c66bdd78ec02",
   "metadata": {},
   "outputs": [
    {
     "data": {
      "image/png": "[encoded data removed]",
      "text/plain": [
       "<Figure size 1500x1000 with 2 Axes>"
      ]
     },
     "metadata": {},
     "output_type": "display_data"
    }
   ],
   "source": [
    "# code for heat map ~(˘▾˘~)\n",
    "plt.figure(figsize=(15, 10))\n",
    "sns.heatmap(top_type_location, annot=True, cmap='viridis', fmt='.0f')\n",
    "plt.title('Number of Each Restaurant Type by Location')\n",
    "plt.xlabel('Restaurant Type')\n",
    "plt.ylabel('Location')\n",
    "plt.show()"
   ]
  },
  {
   "cell_type": "code",
   "execution_count": 243,
   "id": "0384b6f4-22d9-4d4c-b478-b9339ec35d2a",
   "metadata": {
    "scrolled": true
   },
   "outputs": [
    {
     "data": {
      "text/html": [
       "<div>\n",
       "<style scoped>\n",
       "    .dataframe tbody tr th:only-of-type {\n",
       "        vertical-align: middle;\n",
       "    }\n",
       "\n",
       "    .dataframe tbody tr th {\n",
       "        vertical-align: top;\n",
       "    }\n",
       "\n",
       "    .dataframe thead th {\n",
       "        text-align: right;\n",
       "    }\n",
       "</style>\n",
       "<table border=\"1\" class=\"dataframe\">\n",
       "  <thead>\n",
       "    <tr style=\"text-align: right;\">\n",
       "      <th></th>\n",
       "      <th>type</th>\n",
       "      <th>votes</th>\n",
       "    </tr>\n",
       "  </thead>\n",
       "  <tbody>\n",
       "    <tr>\n",
       "      <th>Koramangala 4th Block</th>\n",
       "      <td>Cafes</td>\n",
       "      <td>88697</td>\n",
       "    </tr>\n",
       "    <tr>\n",
       "      <th>Indiranagar</th>\n",
       "      <td>Drinks &amp; nightlife</td>\n",
       "      <td>86812</td>\n",
       "    </tr>\n",
       "    <tr>\n",
       "      <th>Koramangala 6th Block</th>\n",
       "      <td>Cafes</td>\n",
       "      <td>86035</td>\n",
       "    </tr>\n",
       "    <tr>\n",
       "      <th>MG Road</th>\n",
       "      <td>Drinks &amp; nightlife</td>\n",
       "      <td>85586</td>\n",
       "    </tr>\n",
       "    <tr>\n",
       "      <th>Brigade Road</th>\n",
       "      <td>Drinks &amp; nightlife</td>\n",
       "      <td>84526</td>\n",
       "    </tr>\n",
       "    <tr>\n",
       "      <th>Koramangala 7th Block</th>\n",
       "      <td>Cafes</td>\n",
       "      <td>84474</td>\n",
       "    </tr>\n",
       "    <tr>\n",
       "      <th>Church Street</th>\n",
       "      <td>Drinks &amp; nightlife</td>\n",
       "      <td>84139</td>\n",
       "    </tr>\n",
       "    <tr>\n",
       "      <th>Koramangala 5th Block</th>\n",
       "      <td>Pubs and bars</td>\n",
       "      <td>80538</td>\n",
       "    </tr>\n",
       "    <tr>\n",
       "      <th>Residency Road</th>\n",
       "      <td>Drinks &amp; nightlife</td>\n",
       "      <td>76458</td>\n",
       "    </tr>\n",
       "    <tr>\n",
       "      <th>BTM</th>\n",
       "      <td>Pubs and bars</td>\n",
       "      <td>70186</td>\n",
       "    </tr>\n",
       "    <tr>\n",
       "      <th>Old Airport Road</th>\n",
       "      <td>Drinks &amp; nightlife</td>\n",
       "      <td>64380</td>\n",
       "    </tr>\n",
       "    <tr>\n",
       "      <th>Lavelle Road</th>\n",
       "      <td>Drinks &amp; nightlife</td>\n",
       "      <td>63234</td>\n",
       "    </tr>\n",
       "    <tr>\n",
       "      <th>Marathahalli</th>\n",
       "      <td>Buffet</td>\n",
       "      <td>52806</td>\n",
       "    </tr>\n",
       "    <tr>\n",
       "      <th>Sarjapur Road</th>\n",
       "      <td>Drinks &amp; nightlife</td>\n",
       "      <td>43787</td>\n",
       "    </tr>\n",
       "    <tr>\n",
       "      <th>Bellandur</th>\n",
       "      <td>Drinks &amp; nightlife</td>\n",
       "      <td>42741</td>\n",
       "    </tr>\n",
       "    <tr>\n",
       "      <th>Whitefield</th>\n",
       "      <td>Pubs and bars</td>\n",
       "      <td>38016</td>\n",
       "    </tr>\n",
       "    <tr>\n",
       "      <th>Jayanagar</th>\n",
       "      <td>Buffet</td>\n",
       "      <td>36881</td>\n",
       "    </tr>\n",
       "    <tr>\n",
       "      <th>JP Nagar</th>\n",
       "      <td>Buffet</td>\n",
       "      <td>26747</td>\n",
       "    </tr>\n",
       "    <tr>\n",
       "      <th>HSR</th>\n",
       "      <td>Pubs and bars</td>\n",
       "      <td>24004</td>\n",
       "    </tr>\n",
       "    <tr>\n",
       "      <th>Malleshwaram</th>\n",
       "      <td>Pubs and bars</td>\n",
       "      <td>20903</td>\n",
       "    </tr>\n",
       "    <tr>\n",
       "      <th>Bannerghatta Road</th>\n",
       "      <td>Drinks &amp; nightlife</td>\n",
       "      <td>20013</td>\n",
       "    </tr>\n",
       "    <tr>\n",
       "      <th>New BEL Road</th>\n",
       "      <td>Cafes</td>\n",
       "      <td>18312</td>\n",
       "    </tr>\n",
       "    <tr>\n",
       "      <th>Frazer Town</th>\n",
       "      <td>Cafes</td>\n",
       "      <td>17004</td>\n",
       "    </tr>\n",
       "    <tr>\n",
       "      <th>Brookefield</th>\n",
       "      <td>Drinks &amp; nightlife</td>\n",
       "      <td>16626</td>\n",
       "    </tr>\n",
       "    <tr>\n",
       "      <th>Rajajinagar</th>\n",
       "      <td>Pubs and bars</td>\n",
       "      <td>16480</td>\n",
       "    </tr>\n",
       "    <tr>\n",
       "      <th>Basavanagudi</th>\n",
       "      <td>Buffet</td>\n",
       "      <td>14701</td>\n",
       "    </tr>\n",
       "    <tr>\n",
       "      <th>Kammanahalli</th>\n",
       "      <td>Cafes</td>\n",
       "      <td>10598</td>\n",
       "    </tr>\n",
       "    <tr>\n",
       "      <th>Kalyan Nagar</th>\n",
       "      <td>Cafes</td>\n",
       "      <td>10303</td>\n",
       "    </tr>\n",
       "    <tr>\n",
       "      <th>Electronic City</th>\n",
       "      <td>Buffet</td>\n",
       "      <td>6954</td>\n",
       "    </tr>\n",
       "    <tr>\n",
       "      <th>Banashankari</th>\n",
       "      <td>Cafes</td>\n",
       "      <td>6758</td>\n",
       "    </tr>\n",
       "  </tbody>\n",
       "</table>\n",
       "</div>"
      ],
      "text/plain": [
       "                                     type  votes\n",
       "Koramangala 4th Block               Cafes  88697\n",
       "Indiranagar            Drinks & nightlife  86812\n",
       "Koramangala 6th Block               Cafes  86035\n",
       "MG Road                Drinks & nightlife  85586\n",
       "Brigade Road           Drinks & nightlife  84526\n",
       "Koramangala 7th Block               Cafes  84474\n",
       "Church Street          Drinks & nightlife  84139\n",
       "Koramangala 5th Block       Pubs and bars  80538\n",
       "Residency Road         Drinks & nightlife  76458\n",
       "BTM                         Pubs and bars  70186\n",
       "Old Airport Road       Drinks & nightlife  64380\n",
       "Lavelle Road           Drinks & nightlife  63234\n",
       "Marathahalli                       Buffet  52806\n",
       "Sarjapur Road          Drinks & nightlife  43787\n",
       "Bellandur              Drinks & nightlife  42741\n",
       "Whitefield                  Pubs and bars  38016\n",
       "Jayanagar                          Buffet  36881\n",
       "JP Nagar                           Buffet  26747\n",
       "HSR                         Pubs and bars  24004\n",
       "Malleshwaram                Pubs and bars  20903\n",
       "Bannerghatta Road      Drinks & nightlife  20013\n",
       "New BEL Road                        Cafes  18312\n",
       "Frazer Town                         Cafes  17004\n",
       "Brookefield            Drinks & nightlife  16626\n",
       "Rajajinagar                 Pubs and bars  16480\n",
       "Basavanagudi                       Buffet  14701\n",
       "Kammanahalli                        Cafes  10598\n",
       "Kalyan Nagar                        Cafes  10303\n",
       "Electronic City                    Buffet   6954\n",
       "Banashankari                        Cafes   6758"
      ]
     },
     "execution_count": 243,
     "metadata": {},
     "output_type": "execute_result"
    }
   ],
   "source": [
    "def highest_voted_restaurant(df, location):\n",
    "    '''\n",
    "    This function is used to return the type of restaurant that has the maximum number of votes.\n",
    "    The parameter used is dataframe and column location\n",
    "    '''\n",
    "    max_votes = 0\n",
    "    max_type = None\n",
    "    for typ in df[df['location'] == location]['type'].unique(): # Iterate over unique restaurant types for the current location\n",
    "        votes = df[(df['location'] == location) & (df['type'] == typ)]['votes'].sum()\n",
    "\n",
    "        if votes > max_votes:  # Check if this restaurant type has more votes than the previous ma\n",
    "            max_votes = votes\n",
    "            max_type = typ\n",
    "\n",
    "    return {'type': max_type, 'votes': max_votes}\n",
    "\n",
    "all_location = df['location'].unique() \n",
    "\n",
    "data = {\n",
    "    locate: highest_voted_restaurant(df, locate)\n",
    "    for locate in all_location\n",
    "}\n",
    "\n",
    "top_voted_df = pd.DataFrame(data).T\n",
    "top_voted_df.sort_values('votes', ascending= False) "
   ]
  },
  {
   "cell_type": "markdown",
   "id": "b170e5a1-bf66-407e-964e-6d4848870d8c",
   "metadata": {},
   "source": [
    "### Visualization"
   ]
  },
  {
   "cell_type": "code",
   "execution_count": 244,
   "id": "6ad58dc1-fde2-4b12-b9cc-0154021eb15b",
   "metadata": {},
   "outputs": [
    {
     "data": {
      "image/png": "[encoded data removed]",
      "text/plain": [
       "<Figure size 1500x1000 with 1 Axes>"
      ]
     },
     "metadata": {},
     "output_type": "display_data"
    }
   ],
   "source": [
    "# Code for bar chart ~(˘▾˘~)\n",
    "plt.figure(figsize=(15, 10))\n",
    "sns.barplot(x=top_voted_df.index, y=top_voted_df['votes'], hue=top_voted_df['type'], palette='viridis', dodge=False)\n",
    "plt.xticks(rotation=90)\n",
    "plt.title('Highest Voted Restaurant Type by Location')\n",
    "plt.ylabel('Total Votes')\n",
    "plt.xlabel('Location')\n",
    "plt.legend(title='Restaurant Type')\n",
    "plt.show()"
   ]
  },
  {
   "cell_type": "markdown",
   "id": "5f65b527-0372-42e7-a84d-ee31870c5589",
   "metadata": {},
   "source": [
    "```\n",
    "The visuals gave insights into the distribution of different restaurant types across various locations.\n",
    "\n",
    "\r\n",
    "Diverse Culinary Interests: Some locations like \"Koramangala 5th Block\", \"Koramangala 6th Block\", and \"Church Streethaveit a wide range of restaurant types with high count perhapss, indicating a diverse culinary intere.s.\r\n",
    "\r\n",
    "Nightlife Hubs: Places like \"Brigade Road\", \"Church Street\", and \"MG Road\" have high votes for \"Drinks & nightlife\". This suggests that these areas might be considered nightlife hubs, possibly surrounded by offices or universities where people might prefer to hang out after work or class.ses.\r\n",
    "\r\n",
    "Café Cultures: Locations such as \"Koramangala 4th Block\", \"Koramangala 6th Block\", and \"Indiranagar\" have significant votes for cafes. This implies a strong café culture in these amaybeesting a younger demog or a more relaxed environment that favors casual meet-ups.\r\n",
    "\r\n",
    "Traditional Dining: Areas like \"Marathahalli\", \"Jayanagar\", and \"JP Nagar\" which have a higher count for \"Buffet\" and \"Dine-out\" suggest a preference for more traditional or family-oriented dining experiences.\r\n",
    "\r\n",
    "Emerging Hotspots: Locations like \"Whitefield\" and \"Kammanahalli\" have fewer restaurants but still receive a good number of votes, indicating they might be emerging hotspots where new restaurants can potentially flourish.\r\n",
    "\r\n",
    "Economic Indicators: The high vote count in certain areas might indicate higher footfall or disposable income of residents, leading to more visits and interactions with the establishments. In contrast, areas with fewer votes might be more residential with fewer commercial activities.\r\n",
    "\r\n",
    "Variety vs. Dominance: While some areas showcase a variety of reslike auran and types (\"HSR\", \"hurch Street\"), others have a like \"minant type (\"Lavelle Road\" with \"Drink & nightlife\"). Thtot of the area, the type of crowd it attracts, or zoning regulations.\r\n",
    "\r\n",
    "Areas with Potential: Locations like \"Banasankari\" and \"New BEL Road\" have comparatively fewer restaurants of each type, indicating potential  for new restaurants.g restaurateurs.\r\n",
    "\r\n",
    "In conclusion, each location's unique culture and market dynamics are reflected in the type and popularity of its restaurants. Whether driven by demographics, economic factors, or historical reasons, these insights provto be considered by investors.staurant industry."
   ]
  },
  {
   "cell_type": "markdown",
   "id": "092dd01b-2ca5-485e-b28d-9b3db970cee2",
   "metadata": {},
   "source": [
    "---"
   ]
  },
  {
   "cell_type": "markdown",
   "id": "725abc30-9876-4d64-a4a7-75d5c89c80e7",
   "metadata": {},
   "source": [
    "## Each restaurant type has it's own uniqueness that caters to each customer (vote)"
   ]
  },
  {
   "cell_type": "markdown",
   "id": "443612d3-c71c-4f5b-8437-3c179e479cac",
   "metadata": {},
   "source": [
    "### Descriptive Statistics"
   ]
  },
  {
   "cell_type": "code",
   "execution_count": 245,
   "id": "71aa8b55-34bd-46d9-8fa2-ae187c0ae8a8",
   "metadata": {},
   "outputs": [
    {
     "name": "stdout",
     "output_type": "stream",
     "text": [
      "Restaurant type based on votes\n"
     ]
    },
    {
     "data": {
      "text/html": [
       "<div>\n",
       "<style scoped>\n",
       "    .dataframe tbody tr th:only-of-type {\n",
       "        vertical-align: middle;\n",
       "    }\n",
       "\n",
       "    .dataframe tbody tr th {\n",
       "        vertical-align: top;\n",
       "    }\n",
       "\n",
       "    .dataframe thead th {\n",
       "        text-align: right;\n",
       "    }\n",
       "</style>\n",
       "<table border=\"1\" class=\"dataframe\">\n",
       "  <thead>\n",
       "    <tr style=\"text-align: right;\">\n",
       "      <th></th>\n",
       "      <th>mean</th>\n",
       "      <th>median</th>\n",
       "      <th>std</th>\n",
       "      <th>skew</th>\n",
       "      <th>kurtosis</th>\n",
       "    </tr>\n",
       "  </thead>\n",
       "  <tbody>\n",
       "    <tr>\n",
       "      <th>Buffet</th>\n",
       "      <td>1033.982290</td>\n",
       "      <td>399.0</td>\n",
       "      <td>1690.488185</td>\n",
       "      <td>3.244593</td>\n",
       "      <td>12.469202</td>\n",
       "    </tr>\n",
       "    <tr>\n",
       "      <th>Cafes</th>\n",
       "      <td>543.718068</td>\n",
       "      <td>118.0</td>\n",
       "      <td>1272.516447</td>\n",
       "      <td>6.378929</td>\n",
       "      <td>56.937858</td>\n",
       "    </tr>\n",
       "    <tr>\n",
       "      <th>Delivery</th>\n",
       "      <td>73.079422</td>\n",
       "      <td>29.0</td>\n",
       "      <td>203.791918</td>\n",
       "      <td>11.996384</td>\n",
       "      <td>172.557015</td>\n",
       "    </tr>\n",
       "    <tr>\n",
       "      <th>Desserts</th>\n",
       "      <td>197.987841</td>\n",
       "      <td>47.0</td>\n",
       "      <td>546.115517</td>\n",
       "      <td>8.441514</td>\n",
       "      <td>103.450788</td>\n",
       "    </tr>\n",
       "    <tr>\n",
       "      <th>Dine-out</th>\n",
       "      <td>92.294118</td>\n",
       "      <td>15.5</td>\n",
       "      <td>232.578360</td>\n",
       "      <td>5.623650</td>\n",
       "      <td>39.741088</td>\n",
       "    </tr>\n",
       "    <tr>\n",
       "      <th>Drinks &amp; nightlife</th>\n",
       "      <td>1204.774163</td>\n",
       "      <td>582.0</td>\n",
       "      <td>1738.975222</td>\n",
       "      <td>3.298617</td>\n",
       "      <td>17.749316</td>\n",
       "    </tr>\n",
       "    <tr>\n",
       "      <th>Pubs and bars</th>\n",
       "      <td>1111.259494</td>\n",
       "      <td>410.0</td>\n",
       "      <td>1699.913795</td>\n",
       "      <td>2.710412</td>\n",
       "      <td>8.461479</td>\n",
       "    </tr>\n",
       "  </tbody>\n",
       "</table>\n",
       "</div>"
      ],
      "text/plain": [
       "                           mean  median          std       skew    kurtosis\n",
       "Buffet              1033.982290   399.0  1690.488185   3.244593   12.469202\n",
       "Cafes                543.718068   118.0  1272.516447   6.378929   56.937858\n",
       "Delivery              73.079422    29.0   203.791918  11.996384  172.557015\n",
       "Desserts             197.987841    47.0   546.115517   8.441514  103.450788\n",
       "Dine-out              92.294118    15.5   232.578360   5.623650   39.741088\n",
       "Drinks & nightlife  1204.774163   582.0  1738.975222   3.298617   17.749316\n",
       "Pubs and bars       1111.259494   410.0  1699.913795   2.710412    8.461479"
      ]
     },
     "execution_count": 245,
     "metadata": {},
     "output_type": "execute_result"
    }
   ],
   "source": [
    "def summarize_section(df, column):\n",
    "    '''\n",
    "    this function tho is different in away this is for each unique value of a column.\n",
    "    The result is also automatically displayed based on each of the unique value.\n",
    "    The parameter used is the data frame and a single column that can be aggregated\n",
    "    '''\n",
    "    return {\n",
    "        'mean': df[column].mean(),\n",
    "        'median': df[column].median(),\n",
    "        'std': df[column].std(),\n",
    "        'skew': df[column].skew(),\n",
    "        'kurtosis': df[column].kurtosis()\n",
    "    }\n",
    "\n",
    "all_type = df['type'].unique() # assinging it to a variable so it looks nice\n",
    "\n",
    "data = {\n",
    "    typ: summarize_section(df[df['type'] == typ], 'votes')\n",
    "    for typ in all_type  # for every type in restaurant type\n",
    "}\n",
    "\n",
    "summary_type = pd.DataFrame(data).T # flipping the rows n columns\n",
    "print(\"Restaurant type based on votes\")\n",
    "summary_type"
   ]
  },
  {
   "cell_type": "markdown",
   "id": "9b40ceee-1931-42e4-930a-8002d19e5e92",
   "metadata": {},
   "source": [
    "### Visualization"
   ]
  },
  {
   "cell_type": "code",
   "execution_count": 246,
   "id": "1d5a3c20-1741-4b39-a9b5-f164f6986898",
   "metadata": {
    "scrolled": true
   },
   "outputs": [
    {
     "data": {
      "image/png": "[encoded data removed]",
      "text/plain": [
       "<Figure size 1200x600 with 1 Axes>"
      ]
     },
     "metadata": {},
     "output_type": "display_data"
    }
   ],
   "source": [
    "plt.figure(figsize=(12, 6))\n",
    "summary_type[['mean', 'median']].plot(kind='bar', ax=plt.gca())\n",
    "plt.title('Mean and Median Votes by Restaurant Type')\n",
    "plt.ylabel('Votes')\n",
    "plt.xticks(rotation=45)\n",
    "plt.tight_layout()\n",
    "plt.show()"
   ]
  },
  {
   "cell_type": "markdown",
   "id": "cc80179f-0986-49e4-804e-4ee348bfec14",
   "metadata": {},
   "source": [
    "```\n",
    "Buffets have the highest mean votes among all restaurant types, over 1000 votes on average. Their median votes are also relatively high but are around 400, which indicates that while many buffets get a moderate number of votes, there are a few buffets that receive an extremely high number of votes, thus raising the mean.\r\n",
    "\r\n",
    "Cafehass, close to 600. However, the median for cafes is around 200, indicating a skewed distribution with a few cafes receivi y high votes.\r\n",
    "\r\n",
    "Delivery restaurants have mean votes close to 100, with the median being below 50. This suggests that most delivery restaurants receive a relatively low number of votes, but a few outliers have significantly more votes.\r\n",
    "\r\n",
    "Desserts restaurants generally have lower engagement, with both the mean and median votes being below 250. Their median votes are particularly low, under 50, implying that a significant proportion of dessert places receive a very small number of votes.\r\n",
    "\r\n",
    "Dine-out restaurants have the lowest median and mean votes among all types, indicating they are less popular or less visible on the platform compared to other types.\r\n",
    "\r\n",
    "Drinks & nightlife spots are quite popular. They have mean votes over 1000, and their median is also considerably high, suggesting that a good number of such places receive a significant numbercial hubs.\r\n",
    "\r\n",
    "Pubs and bars also have a good presence, with mean votes surpassing 1000. Their median is around 400, suggtablishments have very high votes which pull the mean up."
   ]
  },
  {
   "cell_type": "markdown",
   "id": "a97c8d0e-654e-4bbf-b0d0-3e9a00a7a88e",
   "metadata": {},
   "source": [
    "### Kruskal Test"
   ]
  },
  {
   "cell_type": "code",
   "execution_count": 247,
   "id": "e326505c-128f-469c-8cc0-f03e9358878d",
   "metadata": {},
   "outputs": [
    {
     "name": "stdout",
     "output_type": "stream",
     "text": [
      "H-statistic: 1757.5512543254558\n",
      "P-value: 0.0\n"
     ]
    }
   ],
   "source": [
    "#ataaaaa\n",
    "samples = [df['votes'][df['type'] == typ] for typ in df['type'].unique()]\n",
    "\n",
    "# The Kruskal-Wallis test\n",
    "H_statistic, p_val = kruskal(*samples)\n",
    "\n",
    "print(f\"H-statistic: {H_statistic}\")\n",
    "print(f\"P-value: {p_val}\")"
   ]
  },
  {
   "cell_type": "markdown",
   "id": "f116e939-62a4-43e9-bb8a-10beab6e9c35",
   "metadata": {},
   "source": [
    "```\n",
    "The Kruskal-Wallis tests the null hypothesis that the votes median of all groups is equal. This extremely small p-value indicates strong evidence against the null hypothesis. Thus, we can conclude that at least one type has a different median votes compared to the others."
   ]
  },
  {
   "cell_type": "markdown",
   "id": "d311a61f-d4f0-4947-bd43-3f3de13079f1",
   "metadata": {},
   "source": [
    "```\n",
    "in summary, each restaurant type has its own special thing that attracts people. Buffets get lots of votes because they offer lots of food choices. Cafes are cozy and have both regular visitors and some very popular ones. Delivery is about convenience, but only a few really stand out. Desserts shops are for sweet lovers, but not many get lots of votes. Dine-out places are casual and don’t get many votes. Places for drinks and nightlife are always busy and get many votes. Pubs and bars are fun and social, with some being really popular. In short, every type has something different that people like and vote for."
   ]
  },
  {
   "cell_type": "markdown",
   "id": "92ddd23c-4dfd-401a-9652-657a92890f1d",
   "metadata": {},
   "source": [
    "---"
   ]
  },
  {
   "cell_type": "markdown",
   "id": "2cc3447a-8cc5-49ed-b998-71e6a1cd0698",
   "metadata": {},
   "source": [
    "## Price trend of restaurants in each location is important for restaurants to appeal the appropriate customers"
   ]
  },
  {
   "cell_type": "markdown",
   "id": "ff13e1e9-fe9d-40fc-a2f5-d1bc03f2e6eb",
   "metadata": {},
   "source": [
    "### Descriptive Statistics"
   ]
  },
  {
   "cell_type": "code",
   "execution_count": 248,
   "id": "de1bce80-6d56-4bc1-9d1e-e9b92dcce2ad",
   "metadata": {
    "scrolled": true
   },
   "outputs": [
    {
     "data": {
      "text/html": [
       "<div>\n",
       "<style scoped>\n",
       "    .dataframe tbody tr th:only-of-type {\n",
       "        vertical-align: middle;\n",
       "    }\n",
       "\n",
       "    .dataframe tbody tr th {\n",
       "        vertical-align: top;\n",
       "    }\n",
       "\n",
       "    .dataframe thead th {\n",
       "        text-align: right;\n",
       "    }\n",
       "</style>\n",
       "<table border=\"1\" class=\"dataframe\">\n",
       "  <thead>\n",
       "    <tr style=\"text-align: right;\">\n",
       "      <th></th>\n",
       "      <th>mean</th>\n",
       "      <th>median</th>\n",
       "      <th>std</th>\n",
       "      <th>skew</th>\n",
       "      <th>kurtosis</th>\n",
       "    </tr>\n",
       "  </thead>\n",
       "  <tbody>\n",
       "    <tr>\n",
       "      <th>Banashankari</th>\n",
       "      <td>450.000000</td>\n",
       "      <td>400.0</td>\n",
       "      <td>244.948974</td>\n",
       "      <td>0.974278</td>\n",
       "      <td>1.028391</td>\n",
       "    </tr>\n",
       "    <tr>\n",
       "      <th>Bannerghatta Road</th>\n",
       "      <td>554.601227</td>\n",
       "      <td>500.0</td>\n",
       "      <td>342.143291</td>\n",
       "      <td>1.176402</td>\n",
       "      <td>1.196537</td>\n",
       "    </tr>\n",
       "    <tr>\n",
       "      <th>Basavanagudi</th>\n",
       "      <td>498.830409</td>\n",
       "      <td>400.0</td>\n",
       "      <td>326.926562</td>\n",
       "      <td>1.638731</td>\n",
       "      <td>4.291709</td>\n",
       "    </tr>\n",
       "    <tr>\n",
       "      <th>Bellandur</th>\n",
       "      <td>845.512821</td>\n",
       "      <td>600.0</td>\n",
       "      <td>555.133573</td>\n",
       "      <td>0.614538</td>\n",
       "      <td>-0.821397</td>\n",
       "    </tr>\n",
       "    <tr>\n",
       "      <th>Brigade Road</th>\n",
       "      <td>1047.559682</td>\n",
       "      <td>1000.0</td>\n",
       "      <td>726.176878</td>\n",
       "      <td>1.065090</td>\n",
       "      <td>1.051340</td>\n",
       "    </tr>\n",
       "    <tr>\n",
       "      <th>Brookefield</th>\n",
       "      <td>748.175182</td>\n",
       "      <td>500.0</td>\n",
       "      <td>567.483116</td>\n",
       "      <td>1.233436</td>\n",
       "      <td>0.779854</td>\n",
       "    </tr>\n",
       "    <tr>\n",
       "      <th>BTM</th>\n",
       "      <td>717.843666</td>\n",
       "      <td>600.0</td>\n",
       "      <td>441.331753</td>\n",
       "      <td>0.692306</td>\n",
       "      <td>-0.525366</td>\n",
       "    </tr>\n",
       "    <tr>\n",
       "      <th>Church Street</th>\n",
       "      <td>1091.033592</td>\n",
       "      <td>1000.0</td>\n",
       "      <td>724.654262</td>\n",
       "      <td>0.972150</td>\n",
       "      <td>0.840347</td>\n",
       "    </tr>\n",
       "    <tr>\n",
       "      <th>Electronic City</th>\n",
       "      <td>695.544554</td>\n",
       "      <td>500.0</td>\n",
       "      <td>520.002823</td>\n",
       "      <td>1.460118</td>\n",
       "      <td>2.375074</td>\n",
       "    </tr>\n",
       "    <tr>\n",
       "      <th>Frazer Town</th>\n",
       "      <td>693.827160</td>\n",
       "      <td>500.0</td>\n",
       "      <td>545.926912</td>\n",
       "      <td>1.437210</td>\n",
       "      <td>2.057556</td>\n",
       "    </tr>\n",
       "    <tr>\n",
       "      <th>HSR</th>\n",
       "      <td>614.193548</td>\n",
       "      <td>500.0</td>\n",
       "      <td>411.257578</td>\n",
       "      <td>1.163852</td>\n",
       "      <td>0.745801</td>\n",
       "    </tr>\n",
       "    <tr>\n",
       "      <th>Indiranagar</th>\n",
       "      <td>901.256983</td>\n",
       "      <td>800.0</td>\n",
       "      <td>640.338527</td>\n",
       "      <td>1.250796</td>\n",
       "      <td>1.756971</td>\n",
       "    </tr>\n",
       "    <tr>\n",
       "      <th>Jayanagar</th>\n",
       "      <td>568.305785</td>\n",
       "      <td>500.0</td>\n",
       "      <td>345.052798</td>\n",
       "      <td>1.016807</td>\n",
       "      <td>0.525155</td>\n",
       "    </tr>\n",
       "    <tr>\n",
       "      <th>JP Nagar</th>\n",
       "      <td>553.406114</td>\n",
       "      <td>500.0</td>\n",
       "      <td>341.113651</td>\n",
       "      <td>0.999054</td>\n",
       "      <td>0.439479</td>\n",
       "    </tr>\n",
       "    <tr>\n",
       "      <th>Kalyan Nagar</th>\n",
       "      <td>606.756757</td>\n",
       "      <td>500.0</td>\n",
       "      <td>348.546479</td>\n",
       "      <td>1.230672</td>\n",
       "      <td>1.220082</td>\n",
       "    </tr>\n",
       "    <tr>\n",
       "      <th>Kammanahalli</th>\n",
       "      <td>569.424460</td>\n",
       "      <td>500.0</td>\n",
       "      <td>346.750484</td>\n",
       "      <td>1.466810</td>\n",
       "      <td>2.698152</td>\n",
       "    </tr>\n",
       "    <tr>\n",
       "      <th>Koramangala 4th Block</th>\n",
       "      <td>747.439759</td>\n",
       "      <td>600.0</td>\n",
       "      <td>477.295135</td>\n",
       "      <td>1.136169</td>\n",
       "      <td>1.337341</td>\n",
       "    </tr>\n",
       "    <tr>\n",
       "      <th>Koramangala 5th Block</th>\n",
       "      <td>849.693252</td>\n",
       "      <td>800.0</td>\n",
       "      <td>495.316431</td>\n",
       "      <td>0.542030</td>\n",
       "      <td>-0.495490</td>\n",
       "    </tr>\n",
       "    <tr>\n",
       "      <th>Koramangala 6th Block</th>\n",
       "      <td>738.170347</td>\n",
       "      <td>600.0</td>\n",
       "      <td>459.888328</td>\n",
       "      <td>1.016653</td>\n",
       "      <td>0.395304</td>\n",
       "    </tr>\n",
       "    <tr>\n",
       "      <th>Koramangala 7th Block</th>\n",
       "      <td>805.759162</td>\n",
       "      <td>700.0</td>\n",
       "      <td>474.002142</td>\n",
       "      <td>0.697657</td>\n",
       "      <td>-0.135218</td>\n",
       "    </tr>\n",
       "    <tr>\n",
       "      <th>Lavelle Road</th>\n",
       "      <td>979.742120</td>\n",
       "      <td>800.0</td>\n",
       "      <td>742.997341</td>\n",
       "      <td>1.424990</td>\n",
       "      <td>2.253840</td>\n",
       "    </tr>\n",
       "    <tr>\n",
       "      <th>Malleshwaram</th>\n",
       "      <td>836.165049</td>\n",
       "      <td>500.0</td>\n",
       "      <td>805.372419</td>\n",
       "      <td>2.320179</td>\n",
       "      <td>6.622881</td>\n",
       "    </tr>\n",
       "    <tr>\n",
       "      <th>Marathahalli</th>\n",
       "      <td>684.895833</td>\n",
       "      <td>475.0</td>\n",
       "      <td>576.554116</td>\n",
       "      <td>2.526228</td>\n",
       "      <td>10.513334</td>\n",
       "    </tr>\n",
       "    <tr>\n",
       "      <th>MG Road</th>\n",
       "      <td>1078.087432</td>\n",
       "      <td>1000.0</td>\n",
       "      <td>723.690430</td>\n",
       "      <td>0.980788</td>\n",
       "      <td>0.900316</td>\n",
       "    </tr>\n",
       "    <tr>\n",
       "      <th>New BEL Road</th>\n",
       "      <td>578.629032</td>\n",
       "      <td>400.0</td>\n",
       "      <td>405.810110</td>\n",
       "      <td>1.300563</td>\n",
       "      <td>1.073058</td>\n",
       "    </tr>\n",
       "    <tr>\n",
       "      <th>Old Airport Road</th>\n",
       "      <td>875.403226</td>\n",
       "      <td>700.0</td>\n",
       "      <td>590.837461</td>\n",
       "      <td>1.111967</td>\n",
       "      <td>1.586861</td>\n",
       "    </tr>\n",
       "    <tr>\n",
       "      <th>Rajajinagar</th>\n",
       "      <td>607.574257</td>\n",
       "      <td>400.0</td>\n",
       "      <td>485.056859</td>\n",
       "      <td>1.358656</td>\n",
       "      <td>1.458624</td>\n",
       "    </tr>\n",
       "    <tr>\n",
       "      <th>Residency Road</th>\n",
       "      <td>1001.100000</td>\n",
       "      <td>800.0</td>\n",
       "      <td>713.720145</td>\n",
       "      <td>1.050487</td>\n",
       "      <td>0.700154</td>\n",
       "    </tr>\n",
       "    <tr>\n",
       "      <th>Sarjapur Road</th>\n",
       "      <td>799.702381</td>\n",
       "      <td>550.0</td>\n",
       "      <td>552.281523</td>\n",
       "      <td>0.812639</td>\n",
       "      <td>-0.340261</td>\n",
       "    </tr>\n",
       "    <tr>\n",
       "      <th>Whitefield</th>\n",
       "      <td>867.391304</td>\n",
       "      <td>550.0</td>\n",
       "      <td>660.772991</td>\n",
       "      <td>1.017163</td>\n",
       "      <td>0.043634</td>\n",
       "    </tr>\n",
       "  </tbody>\n",
       "</table>\n",
       "</div>"
      ],
      "text/plain": [
       "                              mean  median         std      skew   kurtosis\n",
       "Banashankari            450.000000   400.0  244.948974  0.974278   1.028391\n",
       "Bannerghatta Road       554.601227   500.0  342.143291  1.176402   1.196537\n",
       "Basavanagudi            498.830409   400.0  326.926562  1.638731   4.291709\n",
       "Bellandur               845.512821   600.0  555.133573  0.614538  -0.821397\n",
       "Brigade Road           1047.559682  1000.0  726.176878  1.065090   1.051340\n",
       "Brookefield             748.175182   500.0  567.483116  1.233436   0.779854\n",
       "BTM                     717.843666   600.0  441.331753  0.692306  -0.525366\n",
       "Church Street          1091.033592  1000.0  724.654262  0.972150   0.840347\n",
       "Electronic City         695.544554   500.0  520.002823  1.460118   2.375074\n",
       "Frazer Town             693.827160   500.0  545.926912  1.437210   2.057556\n",
       "HSR                     614.193548   500.0  411.257578  1.163852   0.745801\n",
       "Indiranagar             901.256983   800.0  640.338527  1.250796   1.756971\n",
       "Jayanagar               568.305785   500.0  345.052798  1.016807   0.525155\n",
       "JP Nagar                553.406114   500.0  341.113651  0.999054   0.439479\n",
       "Kalyan Nagar            606.756757   500.0  348.546479  1.230672   1.220082\n",
       "Kammanahalli            569.424460   500.0  346.750484  1.466810   2.698152\n",
       "Koramangala 4th Block   747.439759   600.0  477.295135  1.136169   1.337341\n",
       "Koramangala 5th Block   849.693252   800.0  495.316431  0.542030  -0.495490\n",
       "Koramangala 6th Block   738.170347   600.0  459.888328  1.016653   0.395304\n",
       "Koramangala 7th Block   805.759162   700.0  474.002142  0.697657  -0.135218\n",
       "Lavelle Road            979.742120   800.0  742.997341  1.424990   2.253840\n",
       "Malleshwaram            836.165049   500.0  805.372419  2.320179   6.622881\n",
       "Marathahalli            684.895833   475.0  576.554116  2.526228  10.513334\n",
       "MG Road                1078.087432  1000.0  723.690430  0.980788   0.900316\n",
       "New BEL Road            578.629032   400.0  405.810110  1.300563   1.073058\n",
       "Old Airport Road        875.403226   700.0  590.837461  1.111967   1.586861\n",
       "Rajajinagar             607.574257   400.0  485.056859  1.358656   1.458624\n",
       "Residency Road         1001.100000   800.0  713.720145  1.050487   0.700154\n",
       "Sarjapur Road           799.702381   550.0  552.281523  0.812639  -0.340261\n",
       "Whitefield              867.391304   550.0  660.772991  1.017163   0.043634"
      ]
     },
     "execution_count": 248,
     "metadata": {},
     "output_type": "execute_result"
    }
   ],
   "source": [
    "all_location = df['location'].unique() # assinging it to a variable so it looks nice\n",
    "\n",
    "data = {\n",
    "    locate: summarize_section(df[df['location'] == locate], 'cost_for_two') # calling prev made function\n",
    "    for locate in all_location  # for every location in the location unique values\n",
    "}\n",
    "\n",
    "summary_locate = pd.DataFrame(data).T # flipping the rows n columns\n",
    "summary_locate"
   ]
  },
  {
   "cell_type": "markdown",
   "id": "6db9a19f-682d-4e50-b335-d33684cf8bee",
   "metadata": {},
   "source": [
    "```\n",
    "The price trends suggest that areas like MG Road, Indiranagar, and Residency Road tend to have expensive restaurants, attracting customers that's willing to spend more. On the other hand, areas like Banasankari might cater to a more budget-conscious crowd.\n",
    "\n",
    "In the perspective of the restaurant owners, understanding these trends can be crucial. Opening a high-end restaurant in Banasankari might not be as fruitful as in MG Road. Similarly, a budget restaurants might thrive better in areas with consistent pricing like JP Nagar.\n",
    "\n",
    "The skewness can also guide promotional strategies. In areas with a positive skew like Bannerghatta Road, marketing strategies that cater to both the general populace and the few willing to spend a premium can be effective.\n",
    "\n",
    "Understanding the variance in pricing, as given by the standard deviation, can also help in positioning the restaurant appropriately within a location, ensuring that it aligns with the spending habits (price trend) and expectations of the local customers."
   ]
  },
  {
   "cell_type": "markdown",
   "id": "07572557-90d6-4caf-b649-64ca6a22fff7",
   "metadata": {},
   "source": [
    "### Visualization"
   ]
  },
  {
   "cell_type": "code",
   "execution_count": 249,
   "id": "a06444e2-abd1-4d68-96fa-84a1b86ef19a",
   "metadata": {},
   "outputs": [
    {
     "data": {
      "image/png": "[encoded data removed]",
      "text/plain": [
       "<Figure size 1000x800 with 1 Axes>"
      ]
     },
     "metadata": {},
     "output_type": "display_data"
    }
   ],
   "source": [
    "# Calculate average cost for each location\n",
    "avg_costs = df.groupby('location')['cost_for_two'].mean()\n",
    "\n",
    "# Sort the values for better visualization\n",
    "avg_costs = avg_costs.sort_values()\n",
    "\n",
    "# Plot\n",
    "plt.figure(figsize=(10, 8))\n",
    "sns.barplot(y=avg_costs.index, x=avg_costs.values, color=\"blue\")\n",
    "plt.title('Average Cost for Two by Location')\n",
    "plt.ylabel('Locations')\n",
    "plt.xlabel('Average Cost for Two')\n",
    "plt.show()"
   ]
  },
  {
   "cell_type": "markdown",
   "id": "6e1a2dce-0d40-462e-9877-b3fafac2bfc8",
   "metadata": {},
   "source": [
    "```\n",
    "Based on the char above, Restaurants costs is not consistent across all the locations. Some locations may have a broad range of restaurant costs, from low to high, while others might have prices clustered around a particular range."
   ]
  },
  {
   "cell_type": "markdown",
   "id": "9e31d279-54d3-434d-80ca-6dc6e8ed8841",
   "metadata": {},
   "source": [
    "### Kruskal Test"
   ]
  },
  {
   "cell_type": "code",
   "execution_count": 250,
   "id": "44c152e6-a292-411f-ab1e-5f6290a8dfe1",
   "metadata": {},
   "outputs": [
    {
     "name": "stdout",
     "output_type": "stream",
     "text": [
      "Statistic: 559.1819180850388\n",
      "p-value = 1.8247139598656577e-99\n"
     ]
    }
   ],
   "source": [
    "from scipy.stats import kruskal\n",
    "\n",
    "groups = [df['cost_for_two'][df['location'] == locate] for locate in df['location'].unique()]\n",
    "\n",
    "statistic, p_value = kruskal(*groups)\n",
    "\n",
    "print(f\"Statistic: {statistic}\")\n",
    "print(f\"p-value = {p_value}\")"
   ]
  },
  {
   "cell_type": "markdown",
   "id": "46a45ed0-843e-4961-b2c8-1371e4c092e5",
   "metadata": {},
   "source": [
    "```\n",
    "The Kruskal-Wallis test is a non-parametric alternative to the one-way ANOVA. It tests the null hypothesis that the population median of all groups is equal. This extremely small p-value indicates strong evidence against the null hypothesis. Thus, we can conclude that at least one location has a different median cost_for_two compared to the others."
   ]
  },
  {
   "cell_type": "markdown",
   "id": "e4d77b10-709c-4641-ac21-5d10b373f69d",
   "metadata": {},
   "source": [
    "```\n",
    "the result of the tests means that the central tendency (in this case, the median) of restaurant costs differs across locations. This means that certain locations may generally be more expensive or cheaper than others."
   ]
  },
  {
   "cell_type": "markdown",
   "id": "8b9373c7-d594-4d14-98ff-a2b3b5f96ac8",
   "metadata": {},
   "source": [
    "```\n",
    "in summary, the data shows that there are statistically significant data that suggest the existence of a price trend for each locations. Restaurants have a variety of prices in each location but they have their own pattern since the skew isn't that high. Locations can be good and have a higher priced restaurants and some are lower. Locations like \"Church Street\", \"MG Road\", and \"Brigade Road\" top the list with the highest average cost. \"Whitefield\", \"Koramangala 5th Block\", and \"Bellandur\" occupy the mid-section. \"Banasankari\", \"Basavanagudi\", and \"JP Nagar\" appear towards the bottom, suggesting a prevalence of budget-friendly dining options. The restaurant chosen need to follow the price trend of each of the resataurant's base of operation to get the most return. "
   ]
  },
  {
   "cell_type": "markdown",
   "id": "ec7eede1-f403-4baa-a53e-b45836c3a5b1",
   "metadata": {},
   "source": [
    "---"
   ]
  },
  {
   "cell_type": "markdown",
   "id": "73adaf83-e0d4-4f3a-b3a8-d7c6651c649b",
   "metadata": {},
   "source": [
    "## High rated restaurants could have or set the cost trend"
   ]
  },
  {
   "cell_type": "markdown",
   "id": "d968e862-df90-416d-9dd6-302126cf9ea4",
   "metadata": {},
   "source": [
    "### Descriptive Statistics"
   ]
  },
  {
   "cell_type": "code",
   "execution_count": 251,
   "id": "b08b33d2-c977-4861-9910-97df91da0081",
   "metadata": {},
   "outputs": [
    {
     "name": "stdout",
     "output_type": "stream",
     "text": [
      "Restaurant ratings vs cost\n"
     ]
    },
    {
     "data": {
      "text/html": [
       "<div>\n",
       "<style scoped>\n",
       "    .dataframe tbody tr th:only-of-type {\n",
       "        vertical-align: middle;\n",
       "    }\n",
       "\n",
       "    .dataframe tbody tr th {\n",
       "        vertical-align: top;\n",
       "    }\n",
       "\n",
       "    .dataframe thead th {\n",
       "        text-align: right;\n",
       "    }\n",
       "</style>\n",
       "<table border=\"1\" class=\"dataframe\">\n",
       "  <thead>\n",
       "    <tr style=\"text-align: right;\">\n",
       "      <th></th>\n",
       "      <th>mean</th>\n",
       "      <th>median</th>\n",
       "      <th>std</th>\n",
       "      <th>skew</th>\n",
       "      <th>kurtosis</th>\n",
       "    </tr>\n",
       "  </thead>\n",
       "  <tbody>\n",
       "    <tr>\n",
       "      <th>Above Average</th>\n",
       "      <td>1357.255937</td>\n",
       "      <td>1200.0</td>\n",
       "      <td>522.682587</td>\n",
       "      <td>1.776532</td>\n",
       "      <td>4.512862</td>\n",
       "    </tr>\n",
       "    <tr>\n",
       "      <th>Below Average</th>\n",
       "      <td>405.102326</td>\n",
       "      <td>400.0</td>\n",
       "      <td>169.509407</td>\n",
       "      <td>0.181296</td>\n",
       "      <td>-0.895015</td>\n",
       "    </tr>\n",
       "  </tbody>\n",
       "</table>\n",
       "</div>"
      ],
      "text/plain": [
       "                      mean  median         std      skew  kurtosis\n",
       "Above Average  1357.255937  1200.0  522.682587  1.776532  4.512862\n",
       "Below Average   405.102326   400.0  169.509407  0.181296 -0.895015"
      ]
     },
     "execution_count": 251,
     "metadata": {},
     "output_type": "execute_result"
    }
   ],
   "source": [
    "avg_cost = df['cost_for_two'].mean()\n",
    "\n",
    "above_avg_df = df[df['cost_for_two'] > avg_cost]\n",
    "below_avg_df = df[df['cost_for_two'] <= avg_cost]\n",
    "\n",
    "above_avg_stats = summarize_section(above_avg_df, 'cost_for_two')\n",
    "below_avg_stats = summarize_section(below_avg_df, 'cost_for_two')\n",
    "\n",
    "summary_data = {\n",
    "    'Above Average': above_avg_stats,\n",
    "    'Below Average': below_avg_stats\n",
    "}\n",
    "summary_df = pd.DataFrame(summary_data).T\n",
    "print(\"Restaurant ratings vs cost\")\n",
    "summary_df"
   ]
  },
  {
   "cell_type": "markdown",
   "id": "d6609195-fd15-4455-8445-394e343f3846",
   "metadata": {},
   "source": [
    "```\n",
    "Above Average Rated Restaurants:\n",
    "\n",
    "Mean cost: The average cost for two at restaurants rated above average is approximately 1357.26.\n",
    "Median cost: The middle value of the cost for two at restaurants rated above average is 1200. This indicates that the distribution of costs is right-skewed since the mean is greater than the median.\n",
    "Standard Deviation: The spread of the cost around the mean is approximately 522.69, indicating a variation in cost among these restaurants.\n",
    "Skewness: A positive value of 1.7765 means that the distribution has a longer right tail. This means there are a few restaurants that are significantly more expensive.\n",
    "Kurtosis: The positive value of 4.5129 means that the distribution has heavier tails and a sharper peak than the normal distribution.\n",
    "\n",
    "Below Average Rated Restaurants:\n",
    "\n",
    "Mean cost: The average cost for two at restaurants rated below average is approximately 405.10.\n",
    "Median cost: The middle value of the cost for two is 400.\n",
    "Standard Deviation: The spread of the cost around the mean is approximately 169.51.\n",
    "Skewness: A positive but small value of 0.1813 suggests that the distribution is almost symmetric with a slight right tail.\n",
    "Kurtosis: The negative value of -0.8950 indicates a flatter peak than the normal distribution."
   ]
  },
  {
   "cell_type": "markdown",
   "id": "c1e49868-8830-415d-8af2-3398c2e15eea",
   "metadata": {},
   "source": [
    "### Visualization"
   ]
  },
  {
   "cell_type": "code",
   "execution_count": 252,
   "id": "4ded74c2-a10b-4024-990b-e56c11ae07e7",
   "metadata": {},
   "outputs": [
    {
     "data": {
      "image/png": "[encoded data removed]",
      "text/plain": [
       "<Figure size 1000x600 with 1 Axes>"
      ]
     },
     "metadata": {},
     "output_type": "display_data"
    }
   ],
   "source": [
    "# scatter plottt\n",
    "plt.figure(figsize=(10,6))\n",
    "sns.regplot(data=df, x='ratings', y='cost_for_two', scatter_kws={'s':10}, line_kws={'color':'red'})\n",
    "plt.title('Regression line on scatter plot of Cost vs. Ratings')\n",
    "plt.xlabel('Ratings')\n",
    "plt.ylabel('Cost for Two')\n",
    "plt.show()"
   ]
  },
  {
   "cell_type": "markdown",
   "id": "a62b197f-6b19-4e58-a24d-cd842d969de8",
   "metadata": {},
   "source": [
    "```\n",
    "The scatter plot visualizes the relationship between ratings and cost for two. As ratings increase, the cost tends to increase, which is confirmed by the positive slope of the regression line.\r\n"
   ]
  },
  {
   "cell_type": "markdown",
   "id": "f12ee80b-2155-47bd-8316-6d2cbff6825e",
   "metadata": {},
   "source": [
    "### Correlation"
   ]
  },
  {
   "cell_type": "code",
   "execution_count": 253,
   "id": "324ac767-dc72-4ea8-a59b-81e8c5192e9d",
   "metadata": {},
   "outputs": [
    {
     "name": "stdout",
     "output_type": "stream",
     "text": [
      "Pearson correlation coefficient between rating and cost: 0.369\n"
     ]
    }
   ],
   "source": [
    "correlation = df['ratings'].corr(df['cost_for_two'])\n",
    "print(f\"Pearson correlation coefficient between rating and cost: {correlation:.3f}\")"
   ]
  },
  {
   "cell_type": "markdown",
   "id": "0d30b5ac-3652-42a9-8e25-2f10f0b6612e",
   "metadata": {},
   "source": [
    "```\n",
    "A value of 0.369 indicates a positive linear relationship between ratings and cost. This means that, on average, restaurants with higher ratings tend to be more expensive."
   ]
  },
  {
   "cell_type": "markdown",
   "id": "2a72ea3e-c5fa-455f-9ea9-0892d0f4813c",
   "metadata": {},
   "source": [
    "### Regression"
   ]
  },
  {
   "cell_type": "code",
   "execution_count": 254,
   "id": "68bcd60d-fd93-4fff-90b7-97bb8864d5b6",
   "metadata": {},
   "outputs": [
    {
     "name": "stdout",
     "output_type": "stream",
     "text": [
      "                            OLS Regression Results                            \n",
      "==============================================================================\n",
      "Dep. Variable:           cost_for_two   R-squared:                       0.137\n",
      "Model:                            OLS   Adj. R-squared:                  0.136\n",
      "Method:                 Least Squares   F-statistic:                     1159.\n",
      "Date:                Thu, 12 Oct 2023   Prob (F-statistic):          5.84e-236\n",
      "Time:                        20:04:11   Log-Likelihood:                -56661.\n",
      "No. Observations:                7332   AIC:                         1.133e+05\n",
      "Df Residuals:                    7330   BIC:                         1.133e+05\n",
      "Df Model:                           1                                         \n",
      "Covariance Type:            nonrobust                                         \n",
      "==============================================================================\n",
      "                 coef    std err          t      P>|t|      [0.025      0.975]\n",
      "------------------------------------------------------------------------------\n",
      "const      -1105.7192     56.313    -19.635      0.000   -1216.109    -995.329\n",
      "ratings      494.0797     14.514     34.043      0.000     465.629     522.530\n",
      "==============================================================================\n",
      "Omnibus:                     2122.691   Durbin-Watson:                   0.886\n",
      "Prob(Omnibus):                  0.000   Jarque-Bera (JB):             6479.274\n",
      "Skew:                           1.492   Prob(JB):                         0.00\n",
      "Kurtosis:                       6.507   Cond. No.                         36.3\n",
      "==============================================================================\n",
      "\n",
      "Notes:\n",
      "[1] Standard Errors assume that the covariance matrix of the errors is correctly specified.\n"
     ]
    }
   ],
   "source": [
    "import statsmodels.api as sm\n",
    "\n",
    "X = df['ratings']\n",
    "X = sm.add_constant(X) \n",
    "y = df['cost_for_two']\n",
    "\n",
    "\n",
    "model = sm.OLS(y, X).fit()\n",
    "\n",
    "print(model.summary())"
   ]
  },
  {
   "cell_type": "markdown",
   "id": "95d3417c-a361-4cc5-82ea-bff5cfa86bfa",
   "metadata": {},
   "source": [
    "```\n",
    "Regression Analysis:\n",
    "R-squared: 0.137 means that about 13.7% of the variability in the cost for two is explained by the ratings. While it's a low R-squared value, it's not uncommon for real-world data.\n",
    "\n",
    "Coefficients:\n",
    "\n",
    "Constant (Intercept): The expected cost for a restaurant with a rating of 0 is -1105.72. This doesn't have a practical interpretation since restaurants won't have a rating\n",
    "\n",
    "Ratings: For each unit increase in rating, the cost for two increases by approximately 494.08, 494.08holding everything else constant. This coefficient is statistically significant with a very low p-value.\n",
    "\n",
    "F-statistic and its p-value: Indicates that the model is statistically significant. The relationship observed is not due to random chance.\n",
    "\n",
    "Skewness and Kurtosis: These values, when combined with the Jarque-Bera test, suggest that the residuals may not be normally distributed."
   ]
  },
  {
   "cell_type": "markdown",
   "id": "e82bc3d8-cb9f-427c-8a4e-5278aa33801f",
   "metadata": {},
   "source": [
    "### T-test"
   ]
  },
  {
   "cell_type": "markdown",
   "id": "4395933e-e825-4665-8a95-f53ba3f83b79",
   "metadata": {},
   "source": [
    "```\n",
    "All the data above suggests that the average cost of restaurants with rating above average is different than the ones that has rating below average.\n",
    "The hypothesis we can use for this is mean cost of restaurants rating above average = mean cost of restaurants rating below average.\n",
    "\n",
    "H0: mean cost of restaurants rating above average == mean cost of restaurants rating below average\n",
    "H1: mean cost of restaurants rating above average != mean cost of restaurants rating below average"
   ]
  },
  {
   "cell_type": "code",
   "execution_count": 255,
   "id": "9ed110b3-5a4e-4b7b-a1cb-dcc725e4ccef",
   "metadata": {},
   "outputs": [
    {
     "name": "stdout",
     "output_type": "stream",
     "text": [
      "T-statistic: 33.35355378647083\n",
      "P-value: 6.900113460851551e-227\n"
     ]
    }
   ],
   "source": [
    "average_rating = df['ratings'].mean()\n",
    "\n",
    "above_average = df[df['ratings'] > average_rating]['cost_for_two']\n",
    "below_average = df[df['ratings'] <= average_rating]['cost_for_two']\n",
    "\n",
    "t_stat, p_value = ttest_ind(above_average, below_average, equal_var=False)  # Assuming unequal variances (Welch's t-test)\n",
    "\n",
    "print(f\"T-statistic: {t_stat}\")\n",
    "print(f\"P-value: {p_value}\")"
   ]
  },
  {
   "cell_type": "markdown",
   "id": "3d4e891b-109b-4350-97be-31fb56bda874",
   "metadata": {},
   "source": [
    "```\n",
    "The very low p-value and the t-test means that we can reject the null hypothesis. This means that the mean cost of restaurants rated above average is significantly different from those rated below average."
   ]
  },
  {
   "cell_type": "code",
   "execution_count": 256,
   "id": "d72d85f1-80b9-4ec6-97eb-4e4cb28ca0b7",
   "metadata": {},
   "outputs": [
    {
     "data": {
      "image/png": "[encoded data removed]",
      "text/plain": [
       "<Figure size 1000x600 with 1 Axes>"
      ]
     },
     "metadata": {},
     "output_type": "display_data"
    }
   ],
   "source": [
    "plt.figure(figsize=(10,6))\n",
    "sns.histplot(above_average, color='skyblue', kde=True, label='Above Average Rating')\n",
    "sns.histplot(below_average, color='salmon', kde=True, label='Below Average Rating')\n",
    "plt.xlabel('Cost for Two')\n",
    "plt.ylabel('Frequency')\n",
    "plt.title('Distribution of Cost for Two based on Restaurant Rating')\n",
    "plt.legend()\n",
    "plt.show()"
   ]
  },
  {
   "cell_type": "markdown",
   "id": "578977be-eb46-4dc5-8412-b57d19ecdf57",
   "metadata": {},
   "source": [
    "```\n",
    "The data above proves there are statistically significant difference between the cost between the restaurants that has the rating above average and the one below average. We can make a hypothesis where The mean cost of restaurants with ratings above average is equal to the mean cost of all restaurants to see if they could set the trend for the price."
   ]
  },
  {
   "cell_type": "markdown",
   "id": "a505f6f7-65c1-41d2-8766-1fd1ad0bd527",
   "metadata": {},
   "source": [
    "```\n",
    "H0 = The mean cost of restaurants with ratings above average is equal to the mean cost of all restaurants.\n",
    "H1 = The mean cost of restaurants with ratings above average is not equal to the mean cost of all restaurants."
   ]
  },
  {
   "cell_type": "code",
   "execution_count": 257,
   "id": "809db49c-f572-446e-82d0-0070a7993acc",
   "metadata": {},
   "outputs": [
    {
     "name": "stdout",
     "output_type": "stream",
     "text": [
      "T-statistic: 18.916323052591544\n",
      "P-value: 1.5461957002950572e-76\n"
     ]
    }
   ],
   "source": [
    "from scipy.stats import ttest_1samp\n",
    "\n",
    "above_avg_rating = df[df['ratings'] > average_rating]\n",
    "overall_mean_cost = df['cost_for_two'].mean()\n",
    "t_stat, p_value = ttest_1samp(above_avg_rating['cost_for_two'], overall_mean_cost)\n",
    "\n",
    "print(f\"T-statistic: {t_stat}\")\n",
    "print(f\"P-value: {p_value}\")"
   ]
  },
  {
   "cell_type": "markdown",
   "id": "057daac9-a908-497f-adcf-9b1b5b44ecc0",
   "metadata": {},
   "source": [
    "```\n",
    "The p-value is extremely close to zero. This means there's very strong evidence to reject the null hypothesis. The mean cost of restaurants with ratings above average is significantly different from the mean cost of all restaurants. The positive t-statistic, means that restaurants with ratings above average have a higher mean cost compared to the overall mean cost of all restaurants."
   ]
  },
  {
   "cell_type": "markdown",
   "id": "159f46ec-726a-44fe-9ebf-178f81956ac7",
   "metadata": {},
   "source": [
    "### Visualization"
   ]
  },
  {
   "cell_type": "code",
   "execution_count": 258,
   "id": "624a460c-cd83-4fff-804a-cc160fdc51a9",
   "metadata": {},
   "outputs": [
    {
     "data": {
      "image/png": "[encoded data removed]",
      "text/plain": [
       "<Figure size 1000x600 with 1 Axes>"
      ]
     },
     "metadata": {},
     "output_type": "display_data"
    }
   ],
   "source": [
    "# Calculate average rating\n",
    "average_rating = df['ratings'].mean()\n",
    "\n",
    "# Filter data for ratings above average\n",
    "above_avg_rating = df[df['ratings'] > average_rating]\n",
    "overall_mean_cost = df['cost_for_two'].mean()\n",
    "\n",
    "# Plot\n",
    "plt.figure(figsize=(10,6))\n",
    "sns.histplot(above_avg_rating['cost_for_two'], kde=True, color=\"skyblue\", bins=30)\n",
    "plt.axvline(overall_mean_cost, color='r', linestyle='--')\n",
    "plt.xlabel('Cost for Two')\n",
    "plt.ylabel('Frequency')\n",
    "plt.title('Distribution of Cost for Two for Restaurants with Above Average Ratings')\n",
    "plt.legend(labels=['Overall Mean Cost', 'Cost Distribution'])\n",
    "plt.show()\n"
   ]
  },
  {
   "cell_type": "markdown",
   "id": "1eb3c19e-e0ab-4926-bf75-adc8ed9ae7ef",
   "metadata": {},
   "source": [
    "```\n",
    "In summary, the data suggests that there is a statistically significant relationship between ratings and cost: higher-rated restaurants, on average, tend to be more expensive. However, the higher cost at highly-rated restaurants could be due to various other factors that is not in the dataset. The more expensive and higher rated restaurant do not set the price trend, which indicates it would be wise picking restaurants that follow's the price trend from the previous data."
   ]
  },
  {
   "cell_type": "markdown",
   "id": "42ac7457-43bb-45e1-9af0-696af2377fbd",
   "metadata": {},
   "source": [
    "---"
   ]
  },
  {
   "cell_type": "markdown",
   "id": "e2261243-238d-4fab-af46-076f0c9904fa",
   "metadata": {},
   "source": [
    "# Conclussion"
   ]
  },
  {
   "cell_type": "markdown",
   "id": "12e85aaf-2aff-4ac7-a10a-cd9abca813bf",
   "metadata": {},
   "source": [
    "```\n",
    "The success and appeal of a restaurant are influenced by various factors. The customer's overall satisfaction with a restaurant's service, represented by its rating, plays a pivotal role. This rating is further proven when supported by number of votes, indicating broader customer endorsement. Votes not only validate a restaurant's rating but also act as indirect marketing, drawing in potential customers.\n",
    "\n",
    "Location plays a dual role; it does not only dictates the restaurant's customer profile based on the location culture and economic environment but also set the trending restaurant types and pricing patterns within that area. The types of restaurants vary in popularity depending on the location's unique characteristics. For instance, nightlife hubs like \"Brigade Road\" or café cultures locations such as \"Koramangala 4th Block\".\n",
    "\n",
    "Furthermore, the services a restaurant offers, such as online ordering or table reservations, can enhance its attractiveness as evidenced by restaurants with these features can get more votes.\n",
    "\n",
    "The cost of dining at a restaurant has its own dynamics. Each location has a distinct price trend. Aligning with this trend is crucial for a restaurant's success. While high-rated restaurants might lean towards the pricier side, they don't necessarily dictate the price trend for an area. It's crucial to identify the prevailing price patterns within a location to maximize returns.\n",
    "\n",
    "In conclussion, for a potential investor, it's not just about identifying high-rated restaurants but understanding the intricate web of factors that drive a restaurant's success. It's about pinpointing establishments that not only offer superior quality and service but also align with the trending preferences and price brackets of their respective locations. In doing so, they can harness maximum potential for their investment."
   ]
  },
  {
   "cell_type": "markdown",
   "id": "8b86142e-c012-4395-b08a-197646c06685",
   "metadata": {},
   "source": [
    "----"
   ]
  },
  {
   "cell_type": "markdown",
   "id": "731395a1-c97e-42c9-8215-427259016174",
   "metadata": {},
   "source": [
    "# TableU Link"
   ]
  },
  {
   "cell_type": "markdown",
   "id": "ba828ce3-75f5-43b6-8139-84d8491a9b11",
   "metadata": {},
   "source": [
    "[TableU URL](https://public.tableau.com/app/profile/achmad.dhani/viz/Achmad_Dhani_Milestone1/Dashboard1)"
   ]
  }
 ],
 "metadata": {
  "kernelspec": {
   "display_name": "Python 3 (ipykernel)",
   "language": "python",
   "name": "python3"
  },
  "language_info": {
   "codemirror_mode": {
    "name": "ipython",
    "version": 3
   },
   "file_extension": ".py",
   "mimetype": "text/x-python",
   "name": "python",
   "nbconvert_exporter": "python",
   "pygments_lexer": "ipython3",
   "version": "3.11.4"
  }
 },
 "nbformat": 4,
 "nbformat_minor": 5
}
